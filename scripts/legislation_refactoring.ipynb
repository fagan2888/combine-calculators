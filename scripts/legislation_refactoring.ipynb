{
 "cells": [
  {
   "cell_type": "markdown",
   "metadata": {
    "collapsed": true
   },
   "source": [
    "Guillaume Chaslot <guillaume.chaslot@data.gouv.fr>\n",
    "\n",
    "# Tax Legislation Refactoring\n",
    "\n",
    "The tax/benefit legislation on individuals in France is more than 200,000 lines long.\n",
    "\n",
    "We believe that with this tool, you can make it less than 100 lines, transparent, and 95% similar to the existing legislation\n",
    "\n",
    "### How it works:\n",
    "\n",
    "1. Define your concepts (e.g., 'nb_enfants', 'age', 'parent isolé') and budget (e.g.: cost less than 2 millions euros)\n",
    "2. The machine learning algorithm helps you adjust the parameters of your reform to approximate the current legislation and fit your budget\n",
    "3. From the biggest discrepencies with the current legislation, you can improve your concepts (or the legislation)\n",
    "4. Repeat until you reach a legislation that matches your own goals. The algorithm takes care of minimizing your budget and maximizing the similarity to current legislation.\n",
    "\n",
    "### Beta version limitations:\n",
    "\n",
    "For this test, we only take a population of people from all ages, who have 0 to 5 children, no salary, married, veuf, paces, divorces or celibataires, and simulate the \"aides sociales\"\n",
    "\n",
    "### Current Results:\n",
    "\n",
    "Within a few minutes, we got a tax reform for \"aides sociales\" for people with no salary that is:\n",
    "\n",
    "* 6 lines long \n",
    "* similar to the existing in average at more than 95%\n"
   ]
  },
  {
   "cell_type": "code",
   "execution_count": 1,
   "metadata": {
    "collapsed": false
   },
   "outputs": [],
   "source": [
    "from utils import show_histogram, percent_diff, scatter_plot, multi_scatter\n",
    "\n",
    "import matplotlib.pyplot as plt\n",
    "# import bqplot.pyplot as plt\n",
    "\n",
    "import pandas as pd\n",
    "import numpy as np\n",
    "import random\n",
    "import qgrid\n",
    "import copy\n",
    "\n",
    "from reformators import Excalibur\n",
    "\n",
    "qgrid.nbinstall(overwrite=True)\n",
    "\n",
    "%matplotlib inline\n",
    "\n",
    "def show_last_reform_results():\n",
    "    if cost > 0:\n",
    "        display_cost_name = 'Total Cost in Euros'\n",
    "        display_cost_value = int(cost)\n",
    "    else:\n",
    "        display_cost_name = 'Total Savings in Euros'\n",
    "        display_cost_value = -int(cost)\n",
    "\n",
    "    result_frame = pd.DataFrame({\n",
    "        display_cost_name: [display_cost_value],\n",
    "        'Average change / family / month in Euros' : [int(error) / 12],\n",
    "        'People losing money' : pissed\n",
    "        })\n",
    "\n",
    "    result_frame.set_index(display_cost_name, inplace=True)\n",
    "    qgrid.show_grid(result_frame)\n"
   ]
  },
  {
   "cell_type": "markdown",
   "metadata": {},
   "source": [
    "# Which variable do you want to optimize?\n",
    "\n",
    "Here, we want to optimize the variable 'revdisp' which by putting a tax on 'taxable_income'"
   ]
  },
  {
   "cell_type": "code",
   "execution_count": 2,
   "metadata": {
    "collapsed": false
   },
   "outputs": [],
   "source": [
    "reformator = Excalibur(target_variable='revdisp',\n",
    "                       taxable_variable='taxable_variable')"
   ]
  },
  {
   "cell_type": "markdown",
   "metadata": {},
   "source": [
    "# What is the population you want to use?\n",
    "\n",
    "The population data is simulated for now, see population_simulator.py for details."
   ]
  },
  {
   "cell_type": "code",
   "execution_count": 3,
   "metadata": {
    "collapsed": false
   },
   "outputs": [],
   "source": [
    "reformator.load_openfisca_results('1aj-1bj-f-2000')\n",
    "\n",
    "# Removing unlikely cases of super old parents due to our approximative population\n",
    "# reformator.filter_only_likely_population()\n",
    "\n",
    "# # Keeping only people with no revenu for this test\n",
    "# reformator.filter_only_no_revenu()"
   ]
  },
  {
   "cell_type": "markdown",
   "metadata": {},
   "source": [
    "# What are the concept you want to use for your reform?\n",
    "\n",
    "You can add concepts like the number of children, age, family situation, etc... \n",
    "\n",
    "The input population is in the CERFA \"declaration des revenus\" format."
   ]
  },
  {
   "cell_type": "code",
   "execution_count": 4,
   "metadata": {
    "collapsed": false,
    "scrolled": true
   },
   "outputs": [
    {
     "name": "stdout",
     "output_type": "stream",
     "text": [
      "Echantillon of 2863 people, in percent of french population for similar revenu: 0.009543333333333334%\n"
     ]
    }
   ],
   "source": [
    "\n",
    "def age_dec_1(family):\n",
    "    return age_from_box(family, '0DA')\n",
    "\n",
    "def age_dec_2(family):\n",
    "    if '0DB' in family:\n",
    "        return age_from_box(family, '0DB')\n",
    "    return None\n",
    "\n",
    "def if_married(family):\n",
    "    return 'M' in family\n",
    "\n",
    "def if_pacse(family):\n",
    "    return 'O' in family\n",
    "\n",
    "def if_veuf(family):\n",
    "    return 'V' in family\n",
    "\n",
    "def if_divorce(family):\n",
    "    return 'D' in family\n",
    "\n",
    "def if_two_people(family):\n",
    "    return '0DB' in family\n",
    "\n",
    "def revenu_1(family):\n",
    "    return family['1AJ']\n",
    "\n",
    "def taxable_variable(family):\n",
    "    if '1BJ' in family:\n",
    "        return family['1AJ'] + family['1BJ']\n",
    "    else:\n",
    "        return family['1AJ']\n",
    "\n",
    "def revenu_2(family):\n",
    "    if '1BJ' in family:\n",
    "        return family['1BJ']\n",
    "    return False\n",
    "    \n",
    "def age_from_box(family, birthdate_box):\n",
    "    return 2014 - family.get(birthdate_box, 2014)\n",
    "\n",
    "def if_both_declarant_parent_below_24(family):\n",
    "    if age_dec_1(family) >= 24:\n",
    "        return False\n",
    "    if '0DB' in family and age_dec_2(family) >= 24:\n",
    "        return False\n",
    "    if 'F' not in family or family['F'] == 0:\n",
    "        return False\n",
    "    return True\n",
    "\n",
    "def per_child(family):\n",
    "    if 'F' in family:\n",
    "        return family['F']\n",
    "    else:\n",
    "        return None\n",
    "\n",
    "def per_child_parent_isole(family):\n",
    "    if '0DB' in family:\n",
    "        return None\n",
    "    if 'F' in family:\n",
    "        return family['F']\n",
    "    else:\n",
    "        return None\n",
    "\n",
    "def if_parent_isole_moins_20k(family):\n",
    "    return 'F' in family and family['F'] >= 1 and ('0DB' not in family) and family['1AJ'] < 20000\n",
    "\n",
    "def if_enfant_unique(family):\n",
    "    return 'F' in family and family['F'] == 1\n",
    "\n",
    "def if_deux_enfants_ou_plus(family):\n",
    "    return 'F' in family and family['F'] >= 2\n",
    "\n",
    "def per_child_after_2(family):\n",
    "    if 'F' in family and family['F'] >= 2:\n",
    "        return family['F'] - 2\n",
    "    return None\n",
    "\n",
    "def if_declarant_above_65(family):\n",
    "    return age_from_box(family, '0DA') >= 65\n",
    "    \n",
    "def if_codeclarant_above_65(family):\n",
    "    return '0DB' in family and age_from_box(family, '0DB') > 65\n",
    "\n",
    "def per_declarant_above_65(family):\n",
    "    return int(age_from_box(family, '0DB') >= 65) + int(age_from_box(family, '0DA') >= 65)\n",
    "\n",
    "def per_declarant_above_24(family):\n",
    "    return int(age_from_box(family, '0DB') >= 24) + int(age_from_box(family, '0DA') >= 24)\n",
    "\n",
    "def if_one_declarant_above_24(family):\n",
    "    return (age_from_box(family, '0DA') >= 24 or ('0DB' in family and age_from_box(family, '0DB') >= 24))\n",
    "\n",
    "def if_one_declarant_above_24_or_has_children(family):\n",
    "    return (age_from_box(family, '0DA') >= 24 or ('0DB' in family and age_from_box(family, '0DB') >= 24) or \n",
    "           ('F' in family and family['F'] >= 1))\n",
    "\n",
    "def if_earns_10k(family):\n",
    "    return taxable_variable(family) > 10000\n",
    "\n",
    "def if_earns_30k(family):\n",
    "    return taxable_variable(family) > 30000\n",
    "\n",
    "def if_earns_40k(family):\n",
    "    return taxable_variable(family) > 40000\n",
    "\n",
    "def base(family):\n",
    "    return True\n",
    "\n",
    "reformator.add_concept('base', base)\n",
    "reformator.add_concept('age_dec_1', age_dec_1)\n",
    "reformator.add_concept('age_dec_2', age_dec_2)\n",
    "reformator.add_concept('taxable_variable', taxable_variable)\n",
    "reformator.add_concept('revenu_1', revenu_1)\n",
    "reformator.add_concept('revenu_2', revenu_2)\n",
    "reformator.add_concept('per_child', per_child)\n",
    "reformator.add_concept('per_child_parent_isole', per_child_parent_isole)\n",
    "reformator.add_concept('per_declarant_above_24', per_declarant_above_24)\n",
    "reformator.add_concept('per_declarant_above_65', per_declarant_above_65)\n",
    "reformator.add_concept('per_child_after_2', per_child_after_2)\n",
    "reformator.add_concept('if_earns_10k', if_earns_10k)\n",
    "reformator.add_concept('if_earns_30k', if_earns_30k)\n",
    "reformator.add_concept('if_earns_40k', if_earns_40k)\n",
    "reformator.add_concept('if_one_declarant_above_24', if_one_declarant_above_24)\n",
    "reformator.add_concept('if_one_declarant_above_24_or_has_children', if_one_declarant_above_24_or_has_children)\n",
    "reformator.add_concept('if_both_declarant_parent_below_24', if_both_declarant_parent_below_24)\n",
    "reformator.add_concept('if_declarant_above_65', if_declarant_above_65)\n",
    "reformator.add_concept('if_codeclarant_above_65', if_codeclarant_above_65)\n",
    "reformator.add_concept('if_enfant_unique', if_enfant_unique)\n",
    "reformator.add_concept('if_deux_enfants_ou_plus', if_deux_enfants_ou_plus)\n",
    "reformator.add_concept('if_two_people', if_two_people)\n",
    "reformator.add_concept('if_parent_isole_moins_20k', if_parent_isole_moins_20k)\n",
    "\n",
    "reformator.summarize_population()"
   ]
  },
  {
   "cell_type": "markdown",
   "metadata": {},
   "source": [
    "# Plots Revenu disponible before reform"
   ]
  },
  {
   "cell_type": "code",
   "execution_count": 5,
   "metadata": {
    "collapsed": false
   },
   "outputs": [
    {
     "data": {
      "image/png": "[encoded data removed]",
      "text/plain": [
       "<matplotlib.figure.Figure at 0x1151ddb50>"
      ]
     },
     "metadata": {},
     "output_type": "display_data"
    }
   ],
   "source": [
    "revdisp = list(family['revdisp'] for family in reformator._population)\n",
    "\n",
    "show_histogram(revdisp, 'Distribution of revenu disponible')"
   ]
  },
  {
   "cell_type": "markdown",
   "metadata": {},
   "source": [
    "# <font color='red'>Define your reform here!</font>\n"
   ]
  },
  {
   "cell_type": "code",
   "execution_count": 6,
   "metadata": {
    "collapsed": false
   },
   "outputs": [
    {
     "name": "stdout",
     "output_type": "stream",
     "text": [
      "['per_child', 'if_declarant_above_65', 'if_codeclarant_above_65', 'if_one_declarant_above_24_or_has_children']\n",
      "(5_w,10)-aCMA-ES (mu_w=3.2,w_1=45%) in dimension 8 (seed=494455, Fri Oct 14 17:28:38 2016)\n",
      "Iterat #Fevals   function value  axis ratio  sigma  min&max std  t[m:s]\n",
      "    1     10 5.752443930205524e+01 1.0e+00 9.47e+03  9e+03  1e+04 0:0.1\n",
      "    2     20 6.239972929405312e+01 1.2e+00 8.68e+03  8e+03  9e+03 0:0.3\n",
      "    3     30 6.454038846964171e+01 1.1e+00 8.62e+03  8e+03  9e+03 0:0.4\n",
      "Best: avg change per month: 167098 cost: -42022733 M/year and 97% people with lower salary\n",
      "Best: avg change per month: 212706 cost: -45600659 M/year and 60% people with lower salary\n",
      "Best: avg change per month: 213498 cost: -53691499 M/year and 96% people with lower salary\n",
      "Best: avg change per month: 262579 cost: -66034653 M/year and 97% people with lower salary\n",
      "Best: avg change per month: 248455 cost: -62481004 M/year and 95% people with lower salary\n",
      "Best: avg change per month: 74422 cost: -18712665 M/year and 69% people with lower salary\n",
      "Best: avg change per month: 66524 cost: -16668638 M/year and 68% people with lower salary\n",
      "Best: avg change per month: 93797 cost: -23570167 M/year and 93% people with lower salary\n",
      "Best: avg change per month: 54216 cost: -13586000 M/year and 67% people with lower salary\n",
      "Best: avg change per month: 19447 cost: -4833594 M/year and 66% people with lower salary\n",
      "Best: avg change per month: 12866 cost: -1991696 M/year and 28% people with lower salary\n",
      "Best: avg change per month: 31792 cost: -7974495 M/year and 77% people with lower salary\n",
      "Best: avg change per month: 19409 cost: -2915047 M/year and 30% people with lower salary\n",
      "Best: avg change per month: 17014 cost: -2909085 M/year and 40% people with lower salary\n",
      "Best: avg change per month: 14967 cost: -2489015 M/year and 25% people with lower salary\n",
      "Best: avg change per month: 19341 cost: -4142951 M/year and 57% people with lower salary\n",
      "Best: avg change per month: 24571 cost: -6140526 M/year and 67% people with lower salary\n",
      "Best: avg change per month: 30968 cost: -7595429 M/year and 33% people with lower salary\n",
      "Best: avg change per month: 29848 cost: -7447920 M/year and 64% people with lower salary\n",
      "  100   1000 3.654297755106572e+01 1.5e+01 6.71e+02  4e+01  5e+02 0:12.7\n",
      "Best: avg change per month: 23281 cost: -5487987 M/year and 31% people with lower salary\n",
      "Best: avg change per month: 21333 cost: -5246608 M/year and 36% people with lower salary\n",
      "Best: avg change per month: 25059 cost: -6235375 M/year and 39% people with lower salary\n",
      "Best: avg change per month: 25591 cost: -6038265 M/year and 25% people with lower salary\n",
      "Best: avg change per month: 23499 cost: -5780212 M/year and 34% people with lower salary\n",
      "Best: avg change per month: 24412 cost: -6041666 M/year and 37% people with lower salary\n",
      "Best: avg change per month: 23945 cost: -5909964 M/year and 38% people with lower salary\n",
      "Best: avg change per month: 24232 cost: -5945182 M/year and 34% people with lower salary\n",
      "Best: avg change per month: 21695 cost: -5336133 M/year and 33% people with lower salary\n",
      "Best: avg change per month: 24305 cost: -5878480 M/year and 55% people with lower salary\n",
      "Best: avg change per month: 22435 cost: -5402787 M/year and 25% people with lower salary\n",
      "Best: avg change per month: 22857 cost: -5631630 M/year and 31% people with lower salary\n",
      "Best: avg change per month: 22243 cost: -5404779 M/year and 23% people with lower salary\n",
      "Best: avg change per month: 22879 cost: -5649274 M/year and 31% people with lower salary\n",
      "Best: avg change per month: 23217 cost: -5649381 M/year and 23% people with lower salary\n",
      "Best: avg change per month: 22482 cost: -5549154 M/year and 25% people with lower salary\n",
      "Best: avg change per month: 22359 cost: -5537519 M/year and 28% people with lower salary\n",
      "Best: avg change per month: 22494 cost: -5531501 M/year and 25% people with lower salary\n",
      "Best: avg change per month: 22492 cost: -5522901 M/year and 24% people with lower salary\n",
      "Best: avg change per month: 22429 cost: -5533481 M/year and 25% people with lower salary\n",
      "Best: avg change per month: 22153 cost: -5463604 M/year and 26% people with lower salary\n",
      "Best: avg change per month: 22477 cost: -5531336 M/year and 25% people with lower salary\n",
      "Best: avg change per month: 22420 cost: -5505364 M/year and 24% people with lower salary\n",
      "Best: avg change per month: 22448 cost: -5518593 M/year and 24% people with lower salary\n",
      "Best: avg change per month: 22473 cost: -5537092 M/year and 25% people with lower salary\n",
      "Best: avg change per month: 22719 cost: -5597975 M/year and 25% people with lower salary\n",
      "Best: avg change per month: 22688 cost: -5597956 M/year and 25% people with lower salary\n",
      "  200   2000 3.046656894575344e+01 9.1e+01 1.16e+02  2e+00  1e+02 0:25.4\n",
      "Best: avg change per month: 22444 cost: -5533792 M/year and 24% people with lower salary\n",
      "Best: avg change per month: 22201 cost: -5471935 M/year and 41% people with lower salary\n",
      "Best: avg change per month: 21978 cost: -5418198 M/year and 40% people with lower salary\n",
      "Best: avg change per month: 21671 cost: -5338926 M/year and 24% people with lower salary\n",
      "Best: avg change per month: 21908 cost: -5395373 M/year and 40% people with lower salary\n",
      "Best: avg change per month: 21585 cost: -5321968 M/year and 24% people with lower salary\n",
      "Best: avg change per month: 20512 cost: -5041378 M/year and 23% people with lower salary\n",
      "Best: avg change per month: 20068 cost: -4939430 M/year and 24% people with lower salary\n",
      "Best: avg change per month: 19472 cost: -4807031 M/year and 26% people with lower salary\n",
      "Best: avg change per month: 18809 cost: -4638855 M/year and 24% people with lower salary\n",
      "Best: avg change per month: 17301 cost: -4233960 M/year and 23% people with lower salary\n",
      "Best: avg change per month: 17622 cost: -4331395 M/year and 24% people with lower salary\n",
      "Best: avg change per month: 16473 cost: -4050137 M/year and 26% people with lower salary\n",
      "Best: avg change per month: 13221 cost: -3225058 M/year and 39% people with lower salary\n",
      "  300   3000 2.839959627768232e+01 6.1e+02 3.79e+02  1e+00  6e+02 0:38.1\n",
      "Best: avg change per month: 11524 cost: -2773189 M/year and 21% people with lower salary\n",
      "Best: avg change per month: 12010 cost: -2903960 M/year and 22% people with lower salary\n",
      "Best: avg change per month: 9437 cost: -2247092 M/year and 21% people with lower salary\n",
      "Best: avg change per month: 11474 cost: -2759326 M/year and 31% people with lower salary\n",
      "Best: avg change per month: 8092 cost: -1918057 M/year and 23% people with lower salary\n",
      "Best: avg change per month: 5826 cost: -1332816 M/year and 19% people with lower salary\n",
      "Best: avg change per month: 1255 cost: -157594 M/year and 14% people with lower salary\n",
      "Best: avg change per month: 7027 cost: -1646353 M/year and 20% people with lower salary\n",
      "Best: avg change per month: 1189 cost: -164102 M/year and 16% people with lower salary\n",
      "Best: avg change per month: 5110 cost: 1283759 M/year and 2% people with lower salary\n",
      "Best: avg change per month: 1177 cost: -163578 M/year and 15% people with lower salary\n",
      "Best: avg change per month: 3172 cost: -650011 M/year and 15% people with lower salary\n",
      "Best: avg change per month: 983 cost: -98658 M/year and 33% people with lower salary\n",
      "Best: avg change per month: 618 cost: 145095 M/year and 8% people with lower salary\n",
      "Best: avg change per month: 758 cost: -38162 M/year and 16% people with lower salary\n",
      "Best: avg change per month: 1385 cost: -186001 M/year and 19% people with lower salary\n",
      "Best: avg change per month: 1236 cost: -174724 M/year and 17% people with lower salary\n",
      "Best: avg change per month: 756 cost: -55907 M/year and 16% people with lower salary\n",
      "Best: avg change per month: 425 cost: 98266 M/year and 7% people with lower salary\n",
      "Best: avg change per month: 670 cost: -43603 M/year and 16% people with lower salary\n",
      "Best: avg change per month: 740 cost: -65887 M/year and 17% people with lower salary\n",
      "Best: avg change per month: 1044 cost: -112551 M/year and 16% people with lower salary\n",
      "Best: avg change per month: 1121 cost: -151211 M/year and 17% people with lower salary\n",
      "Best: avg change per month: 996 cost: -134760 M/year and 18% people with lower salary\n",
      "  400   4000 2.048722625120218e+01 2.7e+02 5.75e+02  2e+00  4e+02 0:50.8\n",
      "Best: avg change per month: 351 cost: -7352 M/year and 21% people with lower salary\n",
      "Best: avg change per month: 376 cost: -17823 M/year and 22% people with lower salary\n",
      "Best: avg change per month: 505 cost: -45163 M/year and 18% people with lower salary\n",
      "Best: avg change per month: 326 cost: -12099 M/year and 17% people with lower salary\n",
      "Best: avg change per month: 361 cost: -15745 M/year and 16% people with lower salary\n",
      "Best: avg change per month: 297 cost: -895 M/year and 14% people with lower salary\n",
      "Best: avg change per month: 310 cost: -3257 M/year and 14% people with lower salary\n",
      "Best: avg change per month: 309 cost: -593 M/year and 13% people with lower salary\n",
      "Best: avg change per month: 302 cost: 55 M/year and 14% people with lower salary\n",
      "Best: avg change per month: 308 cost: -241 M/year and 13% people with lower salary\n",
      "Best: avg change per month: 303 cost: -612 M/year and 13% people with lower salary\n",
      "Best: avg change per month: 302 cost: 303 M/year and 13% people with lower salary\n",
      "Best: avg change per month: 299 cost: -355 M/year and 13% people with lower salary\n",
      "  500   5000 1.688579641454567e+01 1.0e+03 8.08e+01  2e-01  7e+01 1:3.2\n",
      "Best: avg change per month: 306 cost: -195 M/year and 13% people with lower salary\n",
      "  501   5010 1.689505117017576e+01 1.0e+03 8.01e+01  2e-01  7e+01 1:3.3\n",
      "termination on maxfevals=5000.0 (Fri Oct 14 17:29:41 2016)\n",
      "final/bestever f-value = 1.690000e+01 1.688580e+01\n",
      "incumbent solution: [5243.3162079824051, 2995.0928296112966, 4956.2734450879398, 5096.6343637424325, 2.0641618605008589, 103.7237822230253, 3.5859519584460964, 1.6246598730949438]\n",
      "std deviation: [6.7773616721807279, 13.496907309019425, 20.860710404619855, 65.492316983810198, 0.16880080354898588, 1.1965119415896941, 0.19412972147886287, 0.47087302380414436]\n"
     ]
    }
   ],
   "source": [
    "simulated_reform, error, cost, final_parameters, pissed  = reformator.suggest_reform(\n",
    "            parameters=[\n",
    "                            'per_child',\n",
    "                            'if_declarant_above_65',\n",
    "                            'if_codeclarant_above_65',\n",
    "                            'if_one_declarant_above_24_or_has_children',\n",
    "#                             'if_parent_isole_moins_20k',\n",
    "                        ],\n",
    "            tax_rate_parameters=[\n",
    "                'base',\n",
    "                'if_deux_enfants_ou_plus',\n",
    "                'if_earns_30k',\n",
    "                'if_earns_40k',\n",
    "            ],\n",
    "#             tax_threshold_parameters=[\n",
    "#                 'base',\n",
    "# #                 'if_enfant_unique',\n",
    "# #                 'if_deux_enfants_ou_plus',\n",
    "#             ],\n",
    "            max_cost=0,\n",
    "            min_saving=0)"
   ]
  },
  {
   "cell_type": "code",
   "execution_count": 22,
   "metadata": {
    "collapsed": false
   },
   "outputs": [],
   "source": [
    "show_last_reform_results()"
   ]
  },
  {
   "cell_type": "code",
   "execution_count": 23,
   "metadata": {
    "collapsed": false
   },
   "outputs": [
    {
     "name": "stdout",
     "output_type": "stream",
     "text": [
      "[{'variable': 'if_one_declarant_above_24_or_has_children', 'type': 'base_revenu', 'value': 5241.2747054140427}, {'variable': 'per_child', 'type': 'base_revenu', 'value': 2987.4493420929311}, {'variable': 'if_declarant_above_65', 'type': 'base_revenu', 'value': 4965.4552687540454}, {'variable': 'if_codeclarant_above_65', 'type': 'base_revenu', 'value': 5103.4590268026286}, {'variable': 'base', 'type': 'tax_rate', 'value': 2.0188964718249278}, {'variable': 'if_deux_enfants_ou_plus', 'type': 'tax_rate', 'value': 103.07874212904586}, {'variable': 'if_earns_30k', 'type': 'tax_rate', 'value': 3.5920036412523442}, {'variable': 'if_earns_40k', 'type': 'tax_rate', 'value': 2.0351884188760749}]\n"
     ]
    }
   ],
   "source": [
    "print repr(final_parameters)\n",
    "def show_coefficients(final_parameters, current_type):\n",
    "    coefficients = []\n",
    "    variables = []\n",
    "    for parameter in final_parameters:\n",
    "        if parameter['type'] == current_type:\n",
    "            coefficients.append(parameter['value'])\n",
    "            variables.append(parameter['variable'])\n",
    "\n",
    "    result_frame = pd.DataFrame({'Variables': variables, current_type + ' coef': coefficients})\n",
    "    result_frame.set_index('Variables', inplace=True)\n",
    "    qgrid.show_grid(result_frame)\n",
    "\n",
    "show_coefficients(final_parameters, 'base_revenu')\n",
    "show_coefficients(final_parameters, 'tax_rate')\n",
    "# show_coefficients(final_parameters, 'tax_threshold')"
   ]
  },
  {
   "cell_type": "code",
   "execution_count": 9,
   "metadata": {
    "collapsed": false
   },
   "outputs": [],
   "source": [
    "new_pop = copy.deepcopy(reformator._population)\n",
    "\n",
    "for i in range(len(new_pop)):\n",
    "    new_pop[i]['reform'] = simulated_reform[i] \n",
    "\n",
    "def plot_for_population(pop):\n",
    "    revenu_imposable = list(family['taxable_variable'] for family in pop)\n",
    "    revdisp = list(family['revdisp'] for family in pop)\n",
    "    reform = list(family['reform'] for family in pop)\n",
    "\n",
    "    multi_scatter('Revenu disponible for different people before / after reforme', 'Revenu initial', 'Revenu disponible', [\n",
    "                  {'x':revenu_imposable, 'y':reform, 'label':'Reform', 'color':'blue'},\n",
    "                  {'x':revenu_imposable, 'y':revdisp, 'label':'Original', 'color':'red'},\n",
    "              ])"
   ]
  },
  {
   "cell_type": "code",
   "execution_count": 10,
   "metadata": {
    "collapsed": false
   },
   "outputs": [
    {
     "data": {
      "image/png": "[encoded data removed]",
      "text/plain": [
       "<matplotlib.figure.Figure at 0x1151a2950>"
      ]
     },
     "metadata": {},
     "output_type": "display_data"
    }
   ],
   "source": [
    "un_enfant_pop = list(filter(lambda x: x.get('per_child', 0) == 3\n",
    "                                  and x.get('age_dec_1', 0) < 65\n",
    "                                  and x.get('age_dec_2', 0) < 65,\n",
    "                            new_pop))\n",
    "plot_for_population(un_enfant_pop)\n",
    "\n"
   ]
  },
  {
   "cell_type": "code",
   "execution_count": 11,
   "metadata": {
    "collapsed": false
   },
   "outputs": [
    {
     "name": "stderr",
     "output_type": "stream",
     "text": [
      "Widget Javascript not detected.  It may not be installed properly. Did you enable the widgetsnbextension? If not, then run \"jupyter nbextension enable --py --sys-prefix widgetsnbextension\"\n"
     ]
    }
   ],
   "source": [
    "show_last_reform_results()"
   ]
  },
  {
   "cell_type": "code",
   "execution_count": 12,
   "metadata": {
    "collapsed": false
   },
   "outputs": [],
   "source": [
    "# simulated_reform_tree, error_tree, cost_tree, final_parameters_tree  = reformator.suggest_reform_tree(\n",
    "#             parameters=[\n",
    "#                             'per_child',\n",
    "#                             'if_one_declarant_above_24_or_has_children',\n",
    "#                             'age_dec_1',\n",
    "#                             'age_dec_2'\n",
    "#                         ],\n",
    "#                             max_cost=0,\n",
    "#                             min_saving=0,\n",
    "#                             image_file='./enfants_age',\n",
    "#                             max_depth=5,\n",
    "#                             min_samples_leaf=20\n",
    "#                         )"
   ]
  },
  {
   "cell_type": "markdown",
   "metadata": {},
   "source": [
    "# <font color=\"darkgreen\">Reform results</font>"
   ]
  },
  {
   "cell_type": "code",
   "execution_count": 13,
   "metadata": {
    "collapsed": false
   },
   "outputs": [],
   "source": [
    "# show_last_reform_results()\n",
    "# from IPython.display import Image\n",
    "# Image(filename='./enfants_age.png')"
   ]
  },
  {
   "cell_type": "markdown",
   "metadata": {},
   "source": [
    "# Plots revenu disponible after reform"
   ]
  },
  {
   "cell_type": "code",
   "execution_count": 14,
   "metadata": {
    "collapsed": false
   },
   "outputs": [
    {
     "data": {
      "image/png": "[encoded data removed]",
      "text/plain": [
       "<matplotlib.figure.Figure at 0x115166d10>"
      ]
     },
     "metadata": {},
     "output_type": "display_data"
    }
   ],
   "source": [
    "xmin = 0\n",
    "xmax = 60000\n",
    "nb_buckets = 35\n",
    "\n",
    "bins = np.linspace(xmin, xmax, nb_buckets)\n",
    "\n",
    "plt.hist(revdisp, bins, alpha=0.5, label='current')\n",
    "plt.hist(simulated_reform, bins, alpha=0.5, label='reform')\n",
    "plt.legend(loc='upper right')\n",
    "plt.show()"
   ]
  },
  {
   "cell_type": "markdown",
   "metadata": {},
   "source": [
    "# Distribution of the changes in revenu in euros"
   ]
  },
  {
   "cell_type": "code",
   "execution_count": 15,
   "metadata": {
    "collapsed": false
   },
   "outputs": [
    {
     "data": {
      "image/png": "[encoded data removed]",
      "text/plain": [
       "<matplotlib.figure.Figure at 0x116e45590>"
      ]
     },
     "metadata": {},
     "output_type": "display_data"
    }
   ],
   "source": [
    "difference = list(simulated_reform[i] - revdisp[i] for i in range(len(simulated_reform)))\n",
    "\n",
    "show_histogram(difference, 'Changes in revenu')"
   ]
  },
  {
   "cell_type": "markdown",
   "metadata": {},
   "source": [
    "# Distribution of the change in revenu in percentage"
   ]
  },
  {
   "cell_type": "code",
   "execution_count": 16,
   "metadata": {
    "collapsed": false
   },
   "outputs": [
    {
     "data": {
      "image/png": "[encoded data removed]",
      "text/plain": [
       "<matplotlib.figure.Figure at 0x1171b9ad0>"
      ]
     },
     "metadata": {},
     "output_type": "display_data"
    }
   ],
   "source": [
    "percentage_difference = list(100 * percent_diff(simulated_reform[i], revdisp[i]) for i in range(len(simulated_reform)))\n",
    "\n",
    "show_histogram(percentage_difference, 'Changes in revenu')"
   ]
  },
  {
   "cell_type": "markdown",
   "metadata": {},
   "source": [
    "# Change as a function of the number of children"
   ]
  },
  {
   "cell_type": "code",
   "execution_count": 17,
   "metadata": {
    "collapsed": false,
    "scrolled": true
   },
   "outputs": [
    {
     "data": {
      "image/png": "[encoded data removed]",
      "text/plain": [
       "<matplotlib.figure.Figure at 0x1173e1310>"
      ]
     },
     "metadata": {},
     "output_type": "display_data"
    }
   ],
   "source": [
    "nb_children = list((reformator._population[i].get('per_child', 0)  for i in range(len(reformator._population)))) \n",
    "\n",
    "scatter_plot(nb_children, difference, 'Children', 'Difference reform - current', alpha=0.05)"
   ]
  },
  {
   "cell_type": "markdown",
   "metadata": {},
   "source": [
    "# Change as a function of the age of declarant 1\n",
    "\n",
    "A scatter plot is better than a thousand points #ChineseProverb"
   ]
  },
  {
   "cell_type": "code",
   "execution_count": 18,
   "metadata": {
    "collapsed": false
   },
   "outputs": [
    {
     "data": {
      "image/png": "[encoded data removed]",
      "text/plain": [
       "<matplotlib.figure.Figure at 0x11754c390>"
      ]
     },
     "metadata": {},
     "output_type": "display_data"
    }
   ],
   "source": [
    "age_dec1 = list((reformator._population[i].get('age_dec_1', 0)  for i in range(len(reformator._population)))) \n",
    "\n",
    "scatter_plot(age_dec1, difference, 'Age declarant 1', 'Difference reform - current', alpha=0.1)"
   ]
  },
  {
   "cell_type": "markdown",
   "metadata": {},
   "source": [
    "# <font color=\"Red\">Most important: Edge Cases</font>\n",
    "\n",
    "This is the heart of this tool: by seeing the worse cases, you can discover when the current legislation is smarter than yours (or the other way), and improve it further"
   ]
  },
  {
   "cell_type": "code",
   "execution_count": 19,
   "metadata": {
    "collapsed": false
   },
   "outputs": [
    {
     "name": "stderr",
     "output_type": "stream",
     "text": [
      "Widget Javascript not detected.  It may not be installed properly. Did you enable the widgetsnbextension? If not, then run \"jupyter nbextension enable --py --sys-prefix widgetsnbextension\"\n"
     ]
    }
   ],
   "source": [
    "order = sorted(range(len(simulated_reform)), key=lambda k: -(simulated_reform[k] - revdisp[k]))\n",
    "\n",
    "data = {}\n",
    "\n",
    "possible_keys = set()\n",
    "for i in order:\n",
    "    for key in reformator._raw_population[i]:\n",
    "        if key != 'year':\n",
    "            possible_keys.add(key)\n",
    "\n",
    "for i in order:\n",
    "    # Adding the diff with the reform.\n",
    "    differences = data.get('difference', [])\n",
    "    differences.append(int(simulated_reform[i] - revdisp[i]))\n",
    "    data['difference'] = differences\n",
    "\n",
    "    for key in possible_keys:\n",
    "        new_vals = data.get(key, [])\n",
    "        value = reformator._raw_population[i].get(key, '')\n",
    "        if type(value) == float:\n",
    "            value = int(value)\n",
    "        new_vals.append(value)\n",
    "        data[key] = new_vals\n",
    "\n",
    "    # Adding reformed line.\n",
    "    reforms = data.get('reform', [])\n",
    "    reforms.append(int(simulated_reform[i]))\n",
    "    data['reform'] = reforms\n",
    "\n",
    "df = pd.DataFrame(data=data)\n",
    "df.set_index('difference', inplace=True)\n",
    "qgrid.show_grid(df)\n"
   ]
  },
  {
   "cell_type": "markdown",
   "metadata": {},
   "source": [
    "# Best compromise simplicity / matching current legislation:"
   ]
  },
  {
   "cell_type": "code",
   "execution_count": 20,
   "metadata": {
    "collapsed": false
   },
   "outputs": [],
   "source": [
    "# res, error, cost, final_parameters = reformator.suggest_reform(parameters=[\n",
    "#                             'if_one_declarant_above_24',\n",
    "#                             'if_declarant_above_64',\n",
    "#                             'if_codeclarant_above_64',\n",
    "#                             'if_both_declarant_parent_below_24',\n",
    "#                             'if_two_people',\n",
    "#                             'if_enfant_unique',\n",
    "#                             'if_deux_enfants_ou_plus',\n",
    "#                             'nb_enfants_after_2',\n",
    "#                            ])"
   ]
  },
  {
   "cell_type": "code",
   "execution_count": 21,
   "metadata": {
    "collapsed": false
   },
   "outputs": [],
   "source": [
    "# coefficients = list(map(lambda x: x['value'], final_parameters)); variables = list(map(lambda x: x['variable'], final_parameters))\n",
    "# result_frame = pd.DataFrame({'Variables': variables, 'Coefficient': coefficients})\n",
    "# result_frame.set_index('Variables', inplace=True)\n",
    "# qgrid.show_grid(result_frame)"
   ]
  }
 ],
 "metadata": {
  "kernelspec": {
   "display_name": "Python 2",
   "language": "python",
   "name": "python2"
  },
  "language_info": {
   "codemirror_mode": {
    "name": "ipython",
    "version": 2
   },
   "file_extension": ".py",
   "mimetype": "text/x-python",
   "name": "python",
   "nbconvert_exporter": "python",
   "pygments_lexer": "ipython2",
   "version": "2.7.10"
  },
  "widgets": {
   "state": {
    "01199753207c47d79e08c285c247f558": {
     "views": [
      {
       "cell_index": 13
      }
     ]
    },
    "091edef0498248efbc34dd63ecfbf293": {
     "views": [
      {
       "cell_index": 13
      }
     ]
    },
    "0a37c5c7fc2a42a9aae296089758cbb3": {
     "views": [
      {
       "cell_index": 13
      }
     ]
    },
    "0dcde0b5010a4570bf46c37493cc2199": {
     "views": [
      {
       "cell_index": 13
      }
     ]
    },
    "0f8924c0941b4922aa507d48dbe711f8": {
     "views": [
      {
       "cell_index": 13
      }
     ]
    },
    "13e9c4c8c8014e6d9276732ef567be26": {
     "views": [
      {
       "cell_index": 13
      }
     ]
    },
    "1df1892e9f694a8098b9f4993f35ab91": {
     "views": [
      {
       "cell_index": 13
      }
     ]
    },
    "20e6a6f256724f47908377d60958256d": {
     "views": [
      {
       "cell_index": 13
      }
     ]
    },
    "2a936c6231e247eb82b079932ba91548": {
     "views": [
      {
       "cell_index": 13
      }
     ]
    },
    "30a501b5665f40bb92af8dd3ef13745d": {
     "views": [
      {
       "cell_index": 13
      }
     ]
    },
    "36b1eec47e74418588e64ad29d650de7": {
     "views": [
      {
       "cell_index": 13
      }
     ]
    },
    "3d98ef18f1a9425685e15712edde4ec4": {
     "views": [
      {
       "cell_index": 13
      }
     ]
    },
    "47e49529db574d62b6de801dd9bad64a": {
     "views": [
      {
       "cell_index": 31
      }
     ]
    },
    "484d2774c6844b029f89e2ab3b2edf3c": {
     "views": [
      {
       "cell_index": 13
      }
     ]
    },
    "55b25f523f9b4095a6770c0156d0a71a": {
     "views": [
      {
       "cell_index": 13
      }
     ]
    },
    "5955513fecaf4a8d80db72021344d9d0": {
     "views": [
      {
       "cell_index": 16
      }
     ]
    },
    "5ba4495709a347a28f532484d3ae949b": {
     "views": [
      {
       "cell_index": 13
      }
     ]
    },
    "5c5da8a2c66f441d805f265879e45f24": {
     "views": [
      {
       "cell_index": 13
      }
     ]
    },
    "5fa7bb4b13354d899dd9be7a94aa6bb7": {
     "views": [
      {
       "cell_index": 13
      }
     ]
    },
    "60c9b95d6fc340309d4f9c6f62de2d37": {
     "views": [
      {
       "cell_index": 13
      }
     ]
    },
    "67e6c7f32dd24678b59bc513152d4a55": {
     "views": [
      {
       "cell_index": 13
      }
     ]
    },
    "748966f9e590472ca5ebceb331f2e8ae": {
     "views": [
      {
       "cell_index": 13
      }
     ]
    },
    "9b5387d7eb6f4822abac983afd3237d1": {
     "views": [
      {
       "cell_index": 13
      }
     ]
    },
    "9e07226126f74c1ab9d07db36a2b4bbb": {
     "views": [
      {
       "cell_index": 13
      }
     ]
    },
    "9e88a4b1c2b3453a8d8923ab3a9146ff": {
     "views": [
      {
       "cell_index": 13
      }
     ]
    },
    "a97802c4dcf94c2f9a2598ccc18a6652": {
     "views": [
      {
       "cell_index": 13
      }
     ]
    },
    "ac77f4c26ab644ecb1a92ca87e980b9e": {
     "views": [
      {
       "cell_index": 13
      }
     ]
    },
    "b922c093719d4630af0e0d38211da739": {
     "views": [
      {
       "cell_index": 13
      }
     ]
    },
    "c460f3b3fdea44429e1769db36eabb84": {
     "views": [
      {
       "cell_index": 13
      }
     ]
    },
    "d2ea2602d34847f3b22d8988d00dfddf": {
     "views": [
      {
       "cell_index": 13
      }
     ]
    },
    "dd9152b7b78f4c65b03a6f6480219dc0": {
     "views": [
      {
       "cell_index": 13
      }
     ]
    },
    "e81b6fd734a74932b7f7c509f5951253": {
     "views": [
      {
       "cell_index": 13
      }
     ]
    },
    "f00c7c3125934c8d818e53b29d8ddab0": {
     "views": [
      {
       "cell_index": 13
      }
     ]
    },
    "f19934854b504281a4c1155c1aab4837": {
     "views": [
      {
       "cell_index": 13
      }
     ]
    },
    "f7f5198736ac4a7fb610f26106eee9c1": {
     "views": [
      {
       "cell_index": 13
      }
     ]
    },
    "fb2f5679de25422bb2f8c25c356d99e0": {
     "views": [
      {
       "cell_index": 12
      }
     ]
    }
   },
   "version": "1.2.0"
  }
 },
 "nbformat": 4,
 "nbformat_minor": 0
}
