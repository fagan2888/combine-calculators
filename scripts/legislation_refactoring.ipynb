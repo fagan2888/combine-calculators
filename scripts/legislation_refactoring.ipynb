{
 "cells": [
  {
   "cell_type": "markdown",
   "metadata": {
    "collapsed": true
   },
   "source": [
    "Guillaume Chaslot <guillaume.chaslot@data.gouv.fr>\n",
    "\n",
    "# Tax Legislation Refactoring\n",
    "\n",
    "The tax/benefit legislation on individuals in France is more than 200,000 lines long.\n",
    "\n",
    "We believe that with this tool, you can make it less than 100 lines, transparent, and 95% similar to the existing legislation\n",
    "\n",
    "### How it works:\n",
    "\n",
    "1. Define your concepts (e.g., 'nb_enfants', 'age', 'parent isolé') and budget (e.g.: cost less than 2 millions euros)\n",
    "2. The machine learning algorithm helps you adjust the parameters of your reform to approximate the current legislation and fit your budget\n",
    "3. From the biggest discrepencies with the current legislation, you can improve your concepts (or the legislation)\n",
    "4. Repeat until you reach a legislation that matches your own goals. The algorithm takes care of minimizing your budget and maximizing the similarity to current legislation.\n",
    "\n",
    "### Beta version limitations:\n",
    "\n",
    "For this test, we only take a population of people from all ages, who have 0 to 5 children, no salary, married, veuf, paces, divorces or celibataires, and simulate the \"aides sociales\"\n",
    "\n",
    "### Current Results:\n",
    "\n",
    "Within a few minutes, we got a tax reform for \"aides sociales\" for people with no salary that is:\n",
    "\n",
    "* 6 lines long \n",
    "* similar to the existing in average at more than 95%\n"
   ]
  },
  {
   "cell_type": "code",
   "execution_count": 22,
   "metadata": {
    "collapsed": false
   },
   "outputs": [],
   "source": [
    "from utils import show_histogram, percent_diff, scatter_plot, multi_scatter\n",
    "\n",
    "import matplotlib.pyplot as plt\n",
    "# import bqplot.pyplot as plt\n",
    "\n",
    "import pandas as pd\n",
    "import numpy as np\n",
    "import random\n",
    "import qgrid\n",
    "import copy\n",
    "\n",
    "from reformators import Excalibur\n",
    "\n",
    "qgrid.nbinstall(overwrite=True)\n",
    "\n",
    "%matplotlib inline\n",
    "\n",
    "def show_last_reform_results():\n",
    "    if cost > 0:\n",
    "        display_cost_name = 'Total Cost in Euros'\n",
    "        display_cost_value = int(cost)\n",
    "    else:\n",
    "        display_cost_name = 'Total Savings in Euros'\n",
    "        display_cost_value = -int(cost)\n",
    "\n",
    "    result_frame = pd.DataFrame({\n",
    "        display_cost_name: [display_cost_value],\n",
    "        'Average change / family / month in Euros' : [int(error) / 12],\n",
    "        })\n",
    "\n",
    "    result_frame.set_index(display_cost_name, inplace=True)\n",
    "    qgrid.show_grid(result_frame)\n"
   ]
  },
  {
   "cell_type": "markdown",
   "metadata": {},
   "source": [
    "# Which variable do you want to optimize?\n",
    "\n",
    "Here, we want to optimize the variable 'revdisp' which by putting a tax on 'taxable_income'"
   ]
  },
  {
   "cell_type": "code",
   "execution_count": 23,
   "metadata": {
    "collapsed": false
   },
   "outputs": [],
   "source": [
    "reformator = Excalibur(target_variable='revdisp',\n",
    "                       taxable_variable='taxable_variable')"
   ]
  },
  {
   "cell_type": "markdown",
   "metadata": {},
   "source": [
    "# What is the population you want to use?\n",
    "\n",
    "The population data is simulated for now, see population_simulator.py for details."
   ]
  },
  {
   "cell_type": "code",
   "execution_count": 24,
   "metadata": {
    "collapsed": false
   },
   "outputs": [],
   "source": [
    "reformator.load_openfisca_results('1aj-1bj-f-2000')\n",
    "\n",
    "# Removing unlikely cases of super old parents due to our approximative population\n",
    "# reformator.filter_only_likely_population()\n",
    "\n",
    "# # Keeping only people with no revenu for this test\n",
    "# reformator.filter_only_no_revenu()"
   ]
  },
  {
   "cell_type": "markdown",
   "metadata": {},
   "source": [
    "# What are the concept you want to use for your reform?\n",
    "\n",
    "You can add concepts like the number of children, age, family situation, etc... \n",
    "\n",
    "The input population is in the CERFA \"declaration des revenus\" format."
   ]
  },
  {
   "cell_type": "code",
   "execution_count": 25,
   "metadata": {
    "collapsed": false,
    "scrolled": true
   },
   "outputs": [
    {
     "name": "stdout",
     "output_type": "stream",
     "text": [
      "Echantillon of 2863 people, in percent of french population for similar revenu: 0.14315%\n"
     ]
    }
   ],
   "source": [
    "\n",
    "def age_dec_1(family):\n",
    "    return age_from_box(family, '0DA')\n",
    "\n",
    "def age_dec_2(family):\n",
    "    if '0DB' in family:\n",
    "        return age_from_box(family, '0DB')\n",
    "    return None\n",
    "\n",
    "def if_married(family):\n",
    "    return 'M' in family\n",
    "\n",
    "def if_pacse(family):\n",
    "    return 'O' in family\n",
    "\n",
    "def if_veuf(family):\n",
    "    return 'V' in family\n",
    "\n",
    "def if_divorce(family):\n",
    "    return 'D' in family\n",
    "\n",
    "def if_two_people(family):\n",
    "    return '0DB' in family\n",
    "\n",
    "def revenu_1(family):\n",
    "    return family['1AJ']\n",
    "\n",
    "def taxable_variable(family):\n",
    "    if '1BJ' in family:\n",
    "        return family['1AJ'] + family['1BJ']\n",
    "    else:\n",
    "        return family['1AJ']\n",
    "\n",
    "def revenu_2(family):\n",
    "    if '1BJ' in family:\n",
    "        return family['1BJ']\n",
    "    return False\n",
    "    \n",
    "def age_from_box(family, birthdate_box):\n",
    "    return 2014 - family.get(birthdate_box, 2014)\n",
    "\n",
    "def if_both_declarant_parent_below_24(family):\n",
    "    if age_dec_1(family) >= 24:\n",
    "        return False\n",
    "    if '0DB' in family and age_dec_2(family) >= 24:\n",
    "        return False\n",
    "    if 'F' not in family or family['F'] == 0:\n",
    "        return False\n",
    "    return True\n",
    "\n",
    "def per_child(family):\n",
    "    if 'F' in family:\n",
    "        return family['F']\n",
    "    else:\n",
    "        return None\n",
    "\n",
    "def per_child_parent_isole(family):\n",
    "    if '0DB' in family:\n",
    "        return None\n",
    "    if 'F' in family:\n",
    "        return family['F']\n",
    "    else:\n",
    "        return None\n",
    "\n",
    "def if_parent_isole_moins_20k(family):\n",
    "    return 'F' in family and family['F'] >= 1 and ('0DB' not in family) and family['1AJ'] < 20000\n",
    "\n",
    "def if_enfant_unique(family):\n",
    "    return 'F' in family and family['F'] == 1\n",
    "\n",
    "def if_deux_enfants_ou_plus(family):\n",
    "    return 'F' in family and family['F'] >= 2\n",
    "\n",
    "def per_child_after_2(family):\n",
    "    if 'F' in family and family['F'] >= 2:\n",
    "        return family['F'] - 2\n",
    "    return None\n",
    "\n",
    "def if_declarant_above_65(family):\n",
    "    return age_from_box(family, '0DA') >= 65\n",
    "    \n",
    "def if_codeclarant_above_65(family):\n",
    "    return '0DB' in family and age_from_box(family, '0DB') > 65\n",
    "\n",
    "def per_declarant_above_65(family):\n",
    "    return int(age_from_box(family, '0DB') >= 65) + int(age_from_box(family, '0DA') >= 65)\n",
    "\n",
    "def per_declarant_above_24(family):\n",
    "    return int(age_from_box(family, '0DB') >= 24) + int(age_from_box(family, '0DA') >= 24)\n",
    "\n",
    "def if_one_declarant_above_24(family):\n",
    "    return (age_from_box(family, '0DA') >= 24 or ('0DB' in family and age_from_box(family, '0DB') >= 24))\n",
    "\n",
    "def if_one_declarant_above_24_or_has_children(family):\n",
    "    return (age_from_box(family, '0DA') >= 24 or ('0DB' in family and age_from_box(family, '0DB') >= 24) or \n",
    "           ('F' in family and family['F'] >= 1))\n",
    "\n",
    "def if_earns_10k(family):\n",
    "    return taxable_variable(family) > 10000\n",
    "\n",
    "def if_earns_30k(family):\n",
    "    return taxable_variable(family) > 30000\n",
    "\n",
    "def base(family):\n",
    "    return True\n",
    "\n",
    "reformator.add_concept('base', base)\n",
    "reformator.add_concept('age_dec_1', age_dec_1)\n",
    "reformator.add_concept('age_dec_2', age_dec_2)\n",
    "reformator.add_concept('taxable_variable', taxable_variable)\n",
    "reformator.add_concept('revenu_1', revenu_1)\n",
    "reformator.add_concept('revenu_2', revenu_2)\n",
    "reformator.add_concept('per_child', per_child)\n",
    "reformator.add_concept('per_child_parent_isole', per_child_parent_isole)\n",
    "reformator.add_concept('per_declarant_above_24', per_declarant_above_24)\n",
    "reformator.add_concept('per_declarant_above_65', per_declarant_above_65)\n",
    "reformator.add_concept('per_child_after_2', per_child_after_2)\n",
    "reformator.add_concept('if_earns_10k', if_earns_10k)\n",
    "reformator.add_concept('if_earns_30k', if_earns_30k)\n",
    "reformator.add_concept('if_one_declarant_above_24', if_one_declarant_above_24)\n",
    "reformator.add_concept('if_one_declarant_above_24_or_has_children', if_one_declarant_above_24_or_has_children)\n",
    "reformator.add_concept('if_both_declarant_parent_below_24', if_both_declarant_parent_below_24)\n",
    "reformator.add_concept('if_declarant_above_65', if_declarant_above_65)\n",
    "reformator.add_concept('if_codeclarant_above_65', if_codeclarant_above_65)\n",
    "reformator.add_concept('if_enfant_unique', if_enfant_unique)\n",
    "reformator.add_concept('if_deux_enfants_ou_plus', if_deux_enfants_ou_plus)\n",
    "reformator.add_concept('if_two_people', if_two_people)\n",
    "reformator.add_concept('if_parent_isole_moins_20k', if_parent_isole_moins_20k)\n",
    "\n",
    "reformator.summarize_population()"
   ]
  },
  {
   "cell_type": "markdown",
   "metadata": {},
   "source": [
    "# Plots Revenu disponible before reform"
   ]
  },
  {
   "cell_type": "code",
   "execution_count": 26,
   "metadata": {
    "collapsed": false
   },
   "outputs": [
    {
     "data": {
      "image/png": "[encoded data removed]",
      "text/plain": [
       "<matplotlib.figure.Figure at 0x1167c0750>"
      ]
     },
     "metadata": {},
     "output_type": "display_data"
    }
   ],
   "source": [
    "revdisp = list(family['revdisp'] for family in reformator._population)\n",
    "\n",
    "show_histogram(revdisp, 'Distribution of revenu disponible')"
   ]
  },
  {
   "cell_type": "markdown",
   "metadata": {},
   "source": [
    "# <font color='red'>Define your reform here!</font>\n"
   ]
  },
  {
   "cell_type": "code",
   "execution_count": 54,
   "metadata": {
    "collapsed": false
   },
   "outputs": [
    {
     "name": "stdout",
     "output_type": "stream",
     "text": [
      "['if_enfant_unique', 'per_child_after_2', 'if_deux_enfants_ou_plus', 'if_declarant_above_65', 'if_codeclarant_above_65', 'if_one_declarant_above_24_or_has_children', 'if_parent_isole_moins_20k']\n",
      "(5_w,10)-aCMA-ES (mu_w=3.2,w_1=45%) in dimension 10 (seed=373161, Wed Oct 12 17:33:06 2016)\n",
      "Iterat #Fevals   function value  axis ratio  sigma  min&max std  t[m:s]\n",
      "    1     10 1.505216429042563e+10 1.0e+00 8.65e+03  8e+03  9e+03 0:0.1\n",
      "    2     20 3.078519769858621e+10 1.1e+00 8.42e+03  8e+03  9e+03 0:0.3\n",
      "    3     30 2.739335142092926e+10 1.2e+00 8.30e+03  8e+03  8e+03 0:0.4\n",
      "Best: avg change per month: 67881 cost: -468933 M/year and 2201% people pissed ( -5% salary )\n",
      "Best: avg change per month: 37232 cost: -313591 M/year and 1189% people pissed ( -5% salary )\n",
      "Best: avg change per month: 29870 cost: -497573 M/year and 1295% people pissed ( -5% salary )\n",
      "Best: avg change per month: 16019 cost: -243207 M/year and 513% people pissed ( -5% salary )\n",
      "Best: avg change per month: 18469 cost: -308425 M/year and 754% people pissed ( -5% salary )\n",
      "Best: avg change per month: 16371 cost: 263393 M/year and 41% people pissed ( -5% salary )\n",
      "Best: avg change per month: 4461 cost: -60063 M/year and 230% people pissed ( -5% salary )\n",
      "Best: avg change per month: 5102 cost: -66488 M/year and 190% people pissed ( -5% salary )\n",
      "Best: avg change per month: 2991 cost: -48711 M/year and 145% people pissed ( -5% salary )\n",
      "Best: avg change per month: 2384 cost: -20787 M/year and 87% people pissed ( -5% salary )\n",
      "  100   1000 6.083950778743727e+08 2.4e+01 4.17e+02  7e+01  7e+02 0:12.5\n",
      "Best: avg change per month: 2139 cost: 4471 M/year and 68% people pissed ( -5% salary )\n",
      "Best: avg change per month: 952 cost: -11052 M/year and 59% people pissed ( -5% salary )\n",
      "Best: avg change per month: 970 cost: -10922 M/year and 58% people pissed ( -5% salary )\n",
      "Best: avg change per month: 827 cost: -8649 M/year and 47% people pissed ( -5% salary )\n",
      "Best: avg change per month: 919 cost: -13228 M/year and 47% people pissed ( -5% salary )\n",
      "Best: avg change per month: 675 cost: -8421 M/year and 34% people pissed ( -5% salary )\n",
      "Best: avg change per month: 673 cost: -3493 M/year and 27% people pissed ( -5% salary )\n",
      "Best: avg change per month: 621 cost: -2301 M/year and 22% people pissed ( -5% salary )\n",
      "Best: avg change per month: 453 cost: -2955 M/year and 19% people pissed ( -5% salary )\n",
      "Best: avg change per month: 435 cost: 608 M/year and 11% people pissed ( -5% salary )\n",
      "Best: avg change per month: 407 cost: -267 M/year and 11% people pissed ( -5% salary )\n",
      "Best: avg change per month: 411 cost: -2251 M/year and 12% people pissed ( -5% salary )\n",
      "  200   2000 2.039729554797287e+08 2.8e+02 2.03e+02  7e+00  6e+02 0:25.1\n",
      "Best: avg change per month: 349 cost: -341 M/year and 8% people pissed ( -5% salary )\n",
      "Best: avg change per month: 303 cost: -726 M/year and 8% people pissed ( -5% salary )\n",
      "Best: avg change per month: 270 cost: -1250 M/year and 8% people pissed ( -5% salary )\n",
      "Best: avg change per month: 245 cost: -528 M/year and 7% people pissed ( -5% salary )\n",
      "Best: avg change per month: 183 cost: -2131 M/year and 10% people pissed ( -5% salary )\n",
      "Best: avg change per month: 171 cost: -381 M/year and 6% people pissed ( -5% salary )\n",
      "Best: avg change per month: 180 cost: -570 M/year and 7% people pissed ( -5% salary )\n",
      "Best: avg change per month: 156 cost: -1052 M/year and 6% people pissed ( -5% salary )\n",
      "Best: avg change per month: 174 cost: -924 M/year and 6% people pissed ( -5% salary )\n",
      "Best: avg change per month: 154 cost: -1030 M/year and 6% people pissed ( -5% salary )\n",
      "Best: avg change per month: 155 cost: -1187 M/year and 6% people pissed ( -5% salary )\n",
      "Best: avg change per month: 155 cost: -977 M/year and 6% people pissed ( -5% salary )\n",
      "Best: avg change per month: 151 cost: -186 M/year and 5% people pissed ( -5% salary )\n",
      "Best: avg change per month: 148 cost: -478 M/year and 5% people pissed ( -5% salary )\n",
      "  300   3000 7.988689066212149e+07 5.3e+02 1.32e+02  1e+00  2e+02 0:37.7\n",
      "Best: avg change per month: 150 cost: -241 M/year and 5% people pissed ( -5% salary )\n",
      "Best: avg change per month: 144 cost: -539 M/year and 5% people pissed ( -5% salary )\n",
      "Best: avg change per month: 135 cost: -745 M/year and 5% people pissed ( -5% salary )\n",
      "Best: avg change per month: 136 cost: -504 M/year and 4% people pissed ( -5% salary )\n",
      "Best: avg change per month: 133 cost: -203 M/year and 3% people pissed ( -5% salary )\n",
      "Best: avg change per month: 128 cost: -881 M/year and 4% people pissed ( -5% salary )\n",
      "Best: avg change per month: 130 cost: -890 M/year and 5% people pissed ( -5% salary )\n",
      "Best: avg change per month: 111 cost: -222 M/year and 4% people pissed ( -5% salary )\n",
      "Best: avg change per month: 104 cost: -228 M/year and 3% people pissed ( -5% salary )\n",
      "  400   4000 4.949727743160186e+07 8.3e+02 8.41e+01  3e-01  1e+02 0:51.1\n",
      "Best: avg change per month: 104 cost: -35 M/year and 3% people pissed ( -5% salary )\n",
      "Best: avg change per month: 104 cost: -13 M/year and 3% people pissed ( -5% salary )\n",
      "Best: avg change per month: 104 cost: -2 M/year and 3% people pissed ( -5% salary )\n",
      "Best: avg change per month: 105 cost: -29 M/year and 3% people pissed ( -5% salary )\n",
      "Best: avg change per month: 104 cost: -32 M/year and 3% people pissed ( -5% salary )\n",
      "Best: avg change per month: 104 cost: -57 M/year and 3% people pissed ( -5% salary )\n",
      "  500   5000 4.905283369348212e+07 1.3e+03 3.31e+01  7e-02  4e+01 1:4.5\n",
      "  501   5010 4.905049945413059e+07 1.3e+03 3.56e+01  8e-02  4e+01 1:4.6\n",
      "termination on maxfevals=5000.0 (Wed Oct 12 17:34:10 2016)\n",
      "final/bestever f-value = 4.903928e+07 4.903928e+07\n",
      "incumbent solution: [ 5185.42991269  3091.44290895  3208.05422907  4334.10191475  4390.04248835\n",
      "  1454.17576601  1391.90374853    15.42485016 ...]\n",
      "std deviations: [  1.14948568  21.46272342  16.03323915   6.93295873  19.14403325\n",
      "  28.24595361  41.95778914   0.09546282 ...]\n"
     ]
    }
   ],
   "source": [
    "simulated_reform, error, cost, final_parameters  = reformator.suggest_reform(\n",
    "            parameters=[\n",
    "                            'if_enfant_unique',\n",
    "                            'per_child_after_2',\n",
    "                            'if_deux_enfants_ou_plus',\n",
    "                            'if_declarant_above_65',\n",
    "                            'if_codeclarant_above_65',\n",
    "                            'if_one_declarant_above_24_or_has_children',\n",
    "                            'if_parent_isole_moins_20k',\n",
    "                        ],\n",
    "            tax_rate_parameters=[\n",
    "                'base',\n",
    "                'per_child',\n",
    "                'if_earns_30k',\n",
    "            ],\n",
    "#             tax_threshold_parameters=[\n",
    "#                 'base',\n",
    "# #                 'if_enfant_unique',\n",
    "# #                 'if_deux_enfants_ou_plus',\n",
    "#             ],\n",
    "            max_cost=0,\n",
    "            min_saving=0,\n",
    "            percent_not_pissed_off=-1000000000000)"
   ]
  },
  {
   "cell_type": "code",
   "execution_count": 51,
   "metadata": {
    "collapsed": false
   },
   "outputs": [],
   "source": [
    "show_last_reform_results()"
   ]
  },
  {
   "cell_type": "code",
   "execution_count": 52,
   "metadata": {
    "collapsed": false
   },
   "outputs": [
    {
     "name": "stdout",
     "output_type": "stream",
     "text": [
      "[{'variable': 'if_one_declarant_above_24_or_has_children', 'type': 'base_revenu', 'value': 5185.3682806222023}, {'variable': 'per_child_after_2', 'type': 'base_revenu', 'value': 2929.3808511376465}, {'variable': 'if_deux_enfants_ou_plus', 'type': 'base_revenu', 'value': 3358.780295097808}, {'variable': 'if_declarant_above_65', 'type': 'base_revenu', 'value': 4331.1671450937256}, {'variable': 'if_codeclarant_above_65', 'type': 'base_revenu', 'value': 4408.5572853378053}, {'variable': 'if_enfant_unique', 'type': 'base_revenu', 'value': 1556.0127249878492}, {'variable': 'if_parent_isole_moins_20k', 'type': 'base_revenu', 'value': 1226.2318550236603}, {'variable': 'base', 'type': 'tax_rate', 'value': 15.665775475613}, {'variable': 'per_child', 'type': 'tax_rate', 'value': -3.1508589797371176}, {'variable': 'if_earns_30k', 'type': 'tax_rate', 'value': -1.7650954653471946}]\n"
     ]
    }
   ],
   "source": [
    "print repr(final_parameters)\n",
    "def show_coefficients(final_parameters, current_type):\n",
    "    coefficients = []\n",
    "    variables = []\n",
    "    for parameter in final_parameters:\n",
    "        if parameter['type'] == current_type:\n",
    "            coefficients.append(parameter['value'])\n",
    "            variables.append(parameter['variable'])\n",
    "\n",
    "    result_frame = pd.DataFrame({'Variables': variables, current_type + ' coef': coefficients})\n",
    "    result_frame.set_index('Variables', inplace=True)\n",
    "    qgrid.show_grid(result_frame)\n",
    "\n",
    "show_coefficients(final_parameters, 'base_revenu')\n",
    "show_coefficients(final_parameters, 'tax_rate')\n",
    "# show_coefficients(final_parameters, 'tax_threshold')"
   ]
  },
  {
   "cell_type": "code",
   "execution_count": 53,
   "metadata": {
    "collapsed": false
   },
   "outputs": [],
   "source": [
    "new_pop = copy.deepcopy(reformator._population)\n",
    "\n",
    "for i in range(len(new_pop)):\n",
    "    new_pop[i]['reform'] = simulated_reform[i] \n",
    "\n",
    "def plot_for_population(pop):\n",
    "    revenu_imposable = list(family['taxable_variable'] for family in pop)\n",
    "    revdisp = list(family['revdisp'] for family in pop)\n",
    "    reform = list(family['reform'] for family in pop)\n",
    "\n",
    "    multi_scatter('Revenu disponible for different people before / after reforme', 'Revenu initial', 'Revenu disponible', [\n",
    "                  {'x':revenu_imposable, 'y':reform, 'label':'Reform', 'color':'blue'},\n",
    "                  {'x':revenu_imposable, 'y':revdisp, 'label':'Original', 'color':'red'},\n",
    "              ])"
   ]
  },
  {
   "cell_type": "code",
   "execution_count": 46,
   "metadata": {
    "collapsed": false
   },
   "outputs": [
    {
     "data": {
      "image/png": "[encoded data removed]",
      "text/plain": [
       "<matplotlib.figure.Figure at 0x117c2e1d0>"
      ]
     },
     "metadata": {},
     "output_type": "display_data"
    }
   ],
   "source": [
    "un_enfant_pop = list(filter(lambda x: x.get('per_child', 0) == 3\n",
    "                                  and x.get('age_dec_1', 0) < 65\n",
    "                                  and x.get('age_dec_2', 0) < 65,\n",
    "                            new_pop))\n",
    "plot_for_population(un_enfant_pop)\n",
    "\n"
   ]
  },
  {
   "cell_type": "code",
   "execution_count": 47,
   "metadata": {
    "collapsed": false
   },
   "outputs": [],
   "source": [
    "show_last_reform_results()"
   ]
  },
  {
   "cell_type": "code",
   "execution_count": 48,
   "metadata": {
    "collapsed": false
   },
   "outputs": [],
   "source": [
    "# simulated_reform_tree, error_tree, cost_tree, final_parameters_tree  = reformator.suggest_reform_tree(\n",
    "#             parameters=[\n",
    "#                             'per_child',\n",
    "#                             'if_one_declarant_above_24_or_has_children',\n",
    "#                             'age_dec_1',\n",
    "#                             'age_dec_2'\n",
    "#                         ],\n",
    "#                             max_cost=0,\n",
    "#                             min_saving=0,\n",
    "#                             image_file='./enfants_age',\n",
    "#                             max_depth=5,\n",
    "#                             min_samples_leaf=20\n",
    "#                         )"
   ]
  },
  {
   "cell_type": "markdown",
   "metadata": {},
   "source": [
    "# <font color=\"darkgreen\">Reform results</font>"
   ]
  },
  {
   "cell_type": "code",
   "execution_count": 49,
   "metadata": {
    "collapsed": false
   },
   "outputs": [],
   "source": [
    "# show_last_reform_results()\n",
    "# from IPython.display import Image\n",
    "# Image(filename='./enfants_age.png')"
   ]
  },
  {
   "cell_type": "markdown",
   "metadata": {},
   "source": [
    "#  <font color=\"darkgreen\">Reform parameters</font>"
   ]
  },
  {
   "cell_type": "code",
   "execution_count": null,
   "metadata": {
    "collapsed": false
   },
   "outputs": [],
   "source": []
  },
  {
   "cell_type": "markdown",
   "metadata": {},
   "source": [
    "# Plots revenu disponible after reform"
   ]
  },
  {
   "cell_type": "code",
   "execution_count": 35,
   "metadata": {
    "collapsed": false
   },
   "outputs": [
    {
     "data": {
      "image/png": "[encoded data removed]",
      "text/plain": [
       "<matplotlib.figure.Figure at 0x1176c5410>"
      ]
     },
     "metadata": {},
     "output_type": "display_data"
    }
   ],
   "source": [
    "xmin = 0\n",
    "xmax = 60000\n",
    "nb_buckets = 35\n",
    "\n",
    "bins = np.linspace(xmin, xmax, nb_buckets)\n",
    "\n",
    "plt.hist(revdisp, bins, alpha=0.5, label='current')\n",
    "plt.hist(simulated_reform, bins, alpha=0.5, label='reform')\n",
    "plt.legend(loc='upper right')\n",
    "plt.show()"
   ]
  },
  {
   "cell_type": "markdown",
   "metadata": {},
   "source": [
    "# Distribution of the changes in revenu in euros"
   ]
  },
  {
   "cell_type": "code",
   "execution_count": 36,
   "metadata": {
    "collapsed": false
   },
   "outputs": [
    {
     "data": {
      "image/png": "[encoded data removed]",
      "text/plain": [
       "<matplotlib.figure.Figure at 0x11756a090>"
      ]
     },
     "metadata": {},
     "output_type": "display_data"
    }
   ],
   "source": [
    "difference = list(simulated_reform[i] - revdisp[i] for i in range(len(simulated_reform)))\n",
    "\n",
    "show_histogram(difference, 'Changes in revenu')"
   ]
  },
  {
   "cell_type": "markdown",
   "metadata": {},
   "source": [
    "# Distribution of the change in revenu in percentage"
   ]
  },
  {
   "cell_type": "code",
   "execution_count": 37,
   "metadata": {
    "collapsed": false
   },
   "outputs": [
    {
     "data": {
      "image/png": "[encoded data removed]",
      "text/plain": [
       "<matplotlib.figure.Figure at 0x11749a3d0>"
      ]
     },
     "metadata": {},
     "output_type": "display_data"
    }
   ],
   "source": [
    "percentage_difference = list(100 * percent_diff(simulated_reform[i], revdisp[i]) for i in range(len(simulated_reform)))\n",
    "\n",
    "show_histogram(percentage_difference, 'Changes in revenu')"
   ]
  },
  {
   "cell_type": "markdown",
   "metadata": {},
   "source": [
    "# Change as a function of the number of children"
   ]
  },
  {
   "cell_type": "code",
   "execution_count": 38,
   "metadata": {
    "collapsed": false,
    "scrolled": true
   },
   "outputs": [
    {
     "data": {
      "image/png": "[encoded data removed]",
      "text/plain": [
       "<matplotlib.figure.Figure at 0x117150190>"
      ]
     },
     "metadata": {},
     "output_type": "display_data"
    }
   ],
   "source": [
    "nb_children = list((reformator._population[i].get('per_child', 0)  for i in range(len(reformator._population)))) \n",
    "\n",
    "scatter_plot(nb_children, difference, 'Children', 'Difference reform - current', alpha=0.05)"
   ]
  },
  {
   "cell_type": "markdown",
   "metadata": {},
   "source": [
    "# Change as a function of the age of declarant 1\n",
    "\n",
    "A scatter plot is better than a thousand points #ChineseProverb"
   ]
  },
  {
   "cell_type": "code",
   "execution_count": 39,
   "metadata": {
    "collapsed": false
   },
   "outputs": [
    {
     "data": {
      "image/png": "[encoded data removed]",
      "text/plain": [
       "<matplotlib.figure.Figure at 0x1174d3490>"
      ]
     },
     "metadata": {},
     "output_type": "display_data"
    }
   ],
   "source": [
    "age_dec1 = list((reformator._population[i].get('age_dec_1', 0)  for i in range(len(reformator._population)))) \n",
    "\n",
    "scatter_plot(age_dec1, difference, 'Age declarant 1', 'Difference reform - current', alpha=0.1)"
   ]
  },
  {
   "cell_type": "markdown",
   "metadata": {},
   "source": [
    "# <font color=\"Red\">Most important: Edge Cases</font>\n",
    "\n",
    "This is the heart of this tool: by seeing the worse cases, you can discover when the current legislation is smarter than yours (or the other way), and improve it further"
   ]
  },
  {
   "cell_type": "code",
   "execution_count": 40,
   "metadata": {
    "collapsed": false
   },
   "outputs": [],
   "source": [
    "order = sorted(range(len(simulated_reform)), key=lambda k: -(simulated_reform[k] - revdisp[k]))\n",
    "\n",
    "data = {}\n",
    "\n",
    "possible_keys = set()\n",
    "for i in order:\n",
    "    for key in reformator._raw_population[i]:\n",
    "        if key != 'year':\n",
    "            possible_keys.add(key)\n",
    "\n",
    "for i in order:\n",
    "    # Adding the diff with the reform.\n",
    "    differences = data.get('difference', [])\n",
    "    differences.append(int(simulated_reform[i] - revdisp[i]))\n",
    "    data['difference'] = differences\n",
    "\n",
    "    for key in possible_keys:\n",
    "        new_vals = data.get(key, [])\n",
    "        value = reformator._raw_population[i].get(key, '')\n",
    "        if type(value) == float:\n",
    "            value = int(value)\n",
    "        new_vals.append(value)\n",
    "        data[key] = new_vals\n",
    "\n",
    "    # Adding reformed line.\n",
    "    reforms = data.get('reform', [])\n",
    "    reforms.append(int(simulated_reform[i]))\n",
    "    data['reform'] = reforms\n",
    "\n",
    "df = pd.DataFrame(data=data)\n",
    "df.set_index('difference', inplace=True)\n",
    "qgrid.show_grid(df)\n"
   ]
  },
  {
   "cell_type": "markdown",
   "metadata": {},
   "source": [
    "# Best compromise simplicity / matching current legislation:"
   ]
  },
  {
   "cell_type": "code",
   "execution_count": 41,
   "metadata": {
    "collapsed": false
   },
   "outputs": [],
   "source": [
    "# res, error, cost, final_parameters = reformator.suggest_reform(parameters=[\n",
    "#                             'if_one_declarant_above_24',\n",
    "#                             'if_declarant_above_64',\n",
    "#                             'if_codeclarant_above_64',\n",
    "#                             'if_both_declarant_parent_below_24',\n",
    "#                             'if_two_people',\n",
    "#                             'if_enfant_unique',\n",
    "#                             'if_deux_enfants_ou_plus',\n",
    "#                             'nb_enfants_after_2',\n",
    "#                            ])"
   ]
  },
  {
   "cell_type": "code",
   "execution_count": 42,
   "metadata": {
    "collapsed": false
   },
   "outputs": [],
   "source": [
    "# coefficients = list(map(lambda x: x['value'], final_parameters)); variables = list(map(lambda x: x['variable'], final_parameters))\n",
    "# result_frame = pd.DataFrame({'Variables': variables, 'Coefficient': coefficients})\n",
    "# result_frame.set_index('Variables', inplace=True)\n",
    "# qgrid.show_grid(result_frame)"
   ]
  }
 ],
 "metadata": {
  "kernelspec": {
   "display_name": "Python 2",
   "language": "python",
   "name": "python2"
  },
  "language_info": {
   "codemirror_mode": {
    "name": "ipython",
    "version": 2
   },
   "file_extension": ".py",
   "mimetype": "text/x-python",
   "name": "python",
   "nbconvert_exporter": "python",
   "pygments_lexer": "ipython2",
   "version": "2.7.10"
  },
  "widgets": {
   "state": {
    "01f6c31c9a2e48d88efc30c3f5288f0f": {
     "views": [
      {
       "cell_index": 13
      }
     ]
    },
    "079208f59e704d8796bc50ecc8d9bf38": {
     "views": [
      {
       "cell_index": 13
      }
     ]
    },
    "09295f91d33449e58e91365ccf6b30ed": {
     "views": [
      {
       "cell_index": 13
      }
     ]
    },
    "0b9c295966954177845a50f8558a32b8": {
     "views": [
      {
       "cell_index": 13
      }
     ]
    },
    "0dc140306d3a4ea197a547e3aa9fd998": {
     "views": [
      {
       "cell_index": 13
      }
     ]
    },
    "0e7e079e155644d28d62cbf9fad6e082": {
     "views": [
      {
       "cell_index": 13
      }
     ]
    },
    "12c0f332baed4adb9364c9529d48ee5d": {
     "views": [
      {
       "cell_index": 13
      }
     ]
    },
    "15000e4c0bd2488c9f39df8bbffe8510": {
     "views": [
      {
       "cell_index": 13
      }
     ]
    },
    "177d8f06fc7749bd8f47cdf919b1744e": {
     "views": [
      {
       "cell_index": 12
      }
     ]
    },
    "1abba910a35341c4aef4f718a5289c0b": {
     "views": [
      {
       "cell_index": 13
      }
     ]
    },
    "1b93e4b63602435b9988641d5526ad1f": {
     "views": [
      {
       "cell_index": 13
      }
     ]
    },
    "2270201bd4fa4ae2bb4257a3bee61551": {
     "views": [
      {
       "cell_index": 13
      }
     ]
    },
    "29b32be6a17647349b9affcc6a4a89cf": {
     "views": [
      {
       "cell_index": 13
      }
     ]
    },
    "30bbf32d964f4afbb2483de5938291d5": {
     "views": [
      {
       "cell_index": 13
      }
     ]
    },
    "30ccb873e0b54f6e8b8a5cd3bd3e613d": {
     "views": [
      {
       "cell_index": 13
      }
     ]
    },
    "32c2dced301946b18cb248d1cb1c0d38": {
     "views": [
      {
       "cell_index": 13
      }
     ]
    },
    "32f8379761d645d486afb5428b2528a0": {
     "views": [
      {
       "cell_index": 13
      }
     ]
    },
    "35c40ab152fc4dbba92ecb70044a4206": {
     "views": [
      {
       "cell_index": 13
      }
     ]
    },
    "361c88d61eb34deeba0e2988d9dec2d0": {
     "views": [
      {
       "cell_index": 13
      }
     ]
    },
    "369601b93a0d4e898bfe4687bc921884": {
     "views": [
      {
       "cell_index": 13
      }
     ]
    },
    "36c0253fa50a445985d35b1d3b453def": {
     "views": [
      {
       "cell_index": 13
      }
     ]
    },
    "3989d1f6109b4a92ab973d0a280b3eff": {
     "views": [
      {
       "cell_index": 13
      }
     ]
    },
    "398bd49588504e1693f1d7ed495b6698": {
     "views": [
      {
       "cell_index": 13
      }
     ]
    },
    "3b0b7542a01b4b71b9232f2934b2a291": {
     "views": [
      {
       "cell_index": 13
      }
     ]
    },
    "3f8501d87e9d41ea8fd0d2c7b4693982": {
     "views": [
      {
       "cell_index": 13
      }
     ]
    },
    "4d52ec370244406a975d43cec1c2c32c": {
     "views": [
      {
       "cell_index": 13
      }
     ]
    },
    "4fe80aac6a554407a11a50d1271597b3": {
     "views": [
      {
       "cell_index": 13
      }
     ]
    },
    "5883673ad8d845c88dfd41b486d728d3": {
     "views": [
      {
       "cell_index": 13
      }
     ]
    },
    "5a7fa853ad174f09b5fb2f2c4a503132": {
     "views": [
      {
       "cell_index": 13
      }
     ]
    },
    "5e158b1eba6f42ac8d1fb95ef74ece79": {
     "views": [
      {
       "cell_index": 13
      }
     ]
    },
    "63fd67e934d04ba4af05669beb872034": {
     "views": [
      {
       "cell_index": 13
      }
     ]
    },
    "6ca33e345cda4f37a55c3b48e2a760df": {
     "views": [
      {
       "cell_index": 13
      }
     ]
    },
    "6ef36a44c483428b84a93a4edb200ec3": {
     "views": [
      {
       "cell_index": 13
      }
     ]
    },
    "70bd3561e3a14a59827ee1b0fa687259": {
     "views": [
      {
       "cell_index": 13
      }
     ]
    },
    "7a4a7c40fc5947dfaa6e26374e00a726": {
     "views": [
      {
       "cell_index": 33
      }
     ]
    },
    "7b159db430204e13a2681055e4353546": {
     "views": [
      {
       "cell_index": 13
      }
     ]
    },
    "7bdb486f0f8643ee96fedb1d7d070e32": {
     "views": [
      {
       "cell_index": 13
      }
     ]
    },
    "7cc750618fa243ceb5a028b209fa62ec": {
     "views": [
      {
       "cell_index": 13
      }
     ]
    },
    "82a426affcc343df9f8ad1e51b73939f": {
     "views": [
      {
       "cell_index": 13
      }
     ]
    },
    "84cc7af2d5004fd8a264c4b0257bdf87": {
     "views": [
      {
       "cell_index": 13
      }
     ]
    },
    "8dab280b23c1473384217f3545eaac04": {
     "views": [
      {
       "cell_index": 13
      }
     ]
    },
    "96f38e1b791e477f94d4beb15987270b": {
     "views": [
      {
       "cell_index": 13
      }
     ]
    },
    "9899fc0fe13c4ce082a613c1decd14f6": {
     "views": [
      {
       "cell_index": 13
      }
     ]
    },
    "9b202c4533724259837731e2d4496c97": {
     "views": [
      {
       "cell_index": 13
      }
     ]
    },
    "9cca95a90dcd4308a4f16bcf8108fcf7": {
     "views": [
      {
       "cell_index": 13
      }
     ]
    },
    "ab3e0b3407084967966e3f53445b737e": {
     "views": [
      {
       "cell_index": 13
      }
     ]
    },
    "ac4d8aa0db5048f0b29fc67d1cb23e5f": {
     "views": [
      {
       "cell_index": 13
      }
     ]
    },
    "b26ac80a85c24b73b321a55cacebbe78": {
     "views": [
      {
       "cell_index": 13
      }
     ]
    },
    "b6213cfc240d41e9abf61beac8c06255": {
     "views": [
      {
       "cell_index": 13
      }
     ]
    },
    "c2e8d7d6dc724a0dade40a10e5abd1fb": {
     "views": [
      {
       "cell_index": 16
      }
     ]
    },
    "cb29e4982225431aba2a5985afba55ab": {
     "views": [
      {
       "cell_index": 13
      }
     ]
    },
    "d217a29ffd1e42d59638f7460f51f7d6": {
     "views": [
      {
       "cell_index": 13
      }
     ]
    },
    "d48121eb448845bfa541daea2705a18c": {
     "views": [
      {
       "cell_index": 13
      }
     ]
    },
    "d62062ee4ef541a1ace0a7954bcb110f": {
     "views": [
      {
       "cell_index": 13
      }
     ]
    },
    "d7326d52918f4e83a210e14796ec31f5": {
     "views": [
      {
       "cell_index": 13
      }
     ]
    },
    "d790555d6a5941eaa59f2cf8bb12f319": {
     "views": [
      {
       "cell_index": 13
      }
     ]
    },
    "d7ba2f02aa0645cea659fbc22325b09f": {
     "views": [
      {
       "cell_index": 13
      }
     ]
    },
    "d9ec2375581244078be5ba8bdffa39ab": {
     "views": [
      {
       "cell_index": 13
      }
     ]
    },
    "ddae0166a6194c48aad4a8638a0026ff": {
     "views": [
      {
       "cell_index": 13
      }
     ]
    },
    "e12cd5a8a8ef4e47beb5ecafe42a4889": {
     "views": [
      {
       "cell_index": 13
      }
     ]
    },
    "e485ad0df38b4277a3a42f0d9d81b5ce": {
     "views": [
      {
       "cell_index": 13
      }
     ]
    },
    "fadea65f09984f7c94a11000290b6004": {
     "views": [
      {
       "cell_index": 13
      }
     ]
    }
   },
   "version": "1.2.0"
  }
 },
 "nbformat": 4,
 "nbformat_minor": 0
}
