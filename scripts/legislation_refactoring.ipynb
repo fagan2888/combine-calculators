{
 "cells": [
  {
   "cell_type": "markdown",
   "metadata": {
    "collapsed": true
   },
   "source": [
    "Guillaume Chaslot <guillaume.chaslot@data.gouv.fr>\n",
    "\n",
    "# Tax Legislation Refactoring\n",
    "\n",
    "The tax/benefit legislation on individuals in France is more than 200,000 lines long.\n",
    "\n",
    "We believe that with this tool, you can make it less than 100 lines, transparent, and 95% similar to the existing legislation\n",
    "\n",
    "### How it works:\n",
    "\n",
    "1. Define your concepts (e.g., 'nb_enfants', 'age', 'parent isolé') and budget (e.g.: cost less than 2 millions euros)\n",
    "2. The machine learning algorithm helps you adjust the parameters of your reform to approximate the current legislation and fit your budget\n",
    "3. From the biggest discrepencies with the current legislation, you can improve your concepts (or the legislation)\n",
    "4. Repeat until you reach a legislation that matches your own goals. The algorithm takes care of minimizing your budget and maximizing the similarity to current legislation.\n",
    "\n",
    "### Beta version limitations:\n",
    "\n",
    "For this test, we only take a population of people from all ages, who have 0 to 5 children, no salary, married, veuf, paces, divorces or celibataires, and simulate the \"aides sociales\"\n",
    "\n",
    "### Current Results:\n",
    "\n",
    "Within a few minutes, we got a tax reform for \"aides sociales\" for people with no salary that is:\n",
    "\n",
    "* 6 lines long \n",
    "* similar to the existing in average at more than 95%\n"
   ]
  },
  {
   "cell_type": "code",
   "execution_count": 1,
   "metadata": {
    "collapsed": false
   },
   "outputs": [],
   "source": [
    "from utils import show_histogram, percent_diff, scatter_plot, multi_scatter\n",
    "\n",
    "import matplotlib.pyplot as plt\n",
    "# import bqplot.pyplot as plt\n",
    "\n",
    "import pandas as pd\n",
    "import numpy as np\n",
    "import random\n",
    "import qgrid\n",
    "import copy\n",
    "\n",
    "from reformators import Excalibur\n",
    "\n",
    "qgrid.nbinstall(overwrite=True)\n",
    "\n",
    "%matplotlib inline\n",
    "\n",
    "def show_last_reform_results():\n",
    "    if cost > 0:\n",
    "        display_cost_name = 'Total Cost in Euros'\n",
    "        display_cost_value = int(cost)\n",
    "    else:\n",
    "        display_cost_name = 'Total Savings in Euros'\n",
    "        display_cost_value = -int(cost)\n",
    "\n",
    "    result_frame = pd.DataFrame({\n",
    "        display_cost_name: [display_cost_value],\n",
    "        'Average change / family / month in Euros' : [int(error) / 12],\n",
    "        })\n",
    "\n",
    "    result_frame.set_index(display_cost_name, inplace=True)\n",
    "    qgrid.show_grid(result_frame)\n"
   ]
  },
  {
   "cell_type": "markdown",
   "metadata": {},
   "source": [
    "# Which variable do you want to optimize?\n",
    "\n",
    "Here, we want to optimize the variable 'revdisp' which by putting a tax on 'taxable_income'"
   ]
  },
  {
   "cell_type": "code",
   "execution_count": 2,
   "metadata": {
    "collapsed": false
   },
   "outputs": [],
   "source": [
    "reformator = Excalibur(target_variable='revdisp',\n",
    "                       taxable_variable='taxable_variable')"
   ]
  },
  {
   "cell_type": "markdown",
   "metadata": {},
   "source": [
    "# What is the population you want to use?\n",
    "\n",
    "The population data is simulated for now, see population_simulator.py for details."
   ]
  },
  {
   "cell_type": "code",
   "execution_count": 3,
   "metadata": {
    "collapsed": false
   },
   "outputs": [],
   "source": [
    "reformator.load_openfisca_results('1aj-1bj-f-2000')\n",
    "\n",
    "# Removing unlikely cases of super old parents due to our approximative population\n",
    "# reformator.filter_only_likely_population()\n",
    "\n",
    "# # Keeping only people with no revenu for this test\n",
    "# reformator.filter_only_no_revenu()"
   ]
  },
  {
   "cell_type": "markdown",
   "metadata": {},
   "source": [
    "# What are the concept you want to use for your reform?\n",
    "\n",
    "You can add concepts like the number of children, age, family situation, etc... \n",
    "\n",
    "The input population is in the CERFA \"declaration des revenus\" format."
   ]
  },
  {
   "cell_type": "code",
   "execution_count": 4,
   "metadata": {
    "collapsed": false,
    "scrolled": true
   },
   "outputs": [
    {
     "name": "stdout",
     "output_type": "stream",
     "text": [
      "Echantillon of 2863 people, in percent of french population for similar revenu: 0.14315%\n"
     ]
    }
   ],
   "source": [
    "\n",
    "def age_dec_1(family):\n",
    "    return age_from_box(family, '0DA')\n",
    "\n",
    "def age_dec_2(family):\n",
    "    if '0DB' in family:\n",
    "        return age_from_box(family, '0DB')\n",
    "    return None\n",
    "\n",
    "def if_married(family):\n",
    "    return 'M' in family\n",
    "\n",
    "def if_pacse(family):\n",
    "    return 'O' in family\n",
    "\n",
    "def if_veuf(family):\n",
    "    return 'V' in family\n",
    "\n",
    "def if_divorce(family):\n",
    "    return 'D' in family\n",
    "\n",
    "def if_two_people(family):\n",
    "    return '0DB' in family\n",
    "\n",
    "def revenu_1(family):\n",
    "    return family['1AJ']\n",
    "\n",
    "def taxable_variable(family):\n",
    "    if '1BJ' in family:\n",
    "        return family['1AJ'] + family['1BJ']\n",
    "    else:\n",
    "        return family['1AJ']\n",
    "\n",
    "def revenu_2(family):\n",
    "    if '1BJ' in family:\n",
    "        return family['1BJ']\n",
    "    return False\n",
    "    \n",
    "def age_from_box(family, birthdate_box):\n",
    "    return 2014 - family.get(birthdate_box, 2014)\n",
    "\n",
    "def if_both_declarant_parent_below_24(family):\n",
    "    if age_dec_1(family) >= 24:\n",
    "        return False\n",
    "    if '0DB' in family and age_dec_2(family) >= 24:\n",
    "        return False\n",
    "    if 'F' not in family or family['F'] == 0:\n",
    "        return False\n",
    "    return True\n",
    "\n",
    "def per_child(family):\n",
    "    if 'F' in family:\n",
    "        return family['F']\n",
    "    else:\n",
    "        return None\n",
    "\n",
    "def per_child_parent_isole(family):\n",
    "    if '0DB' in family:\n",
    "        return None\n",
    "    if 'F' in family:\n",
    "        return family['F']\n",
    "    else:\n",
    "        return None\n",
    "\n",
    "def if_parent_isole(family):\n",
    "    return 'F' in family and family['F'] >= 1 and ('0DB' not in family)\n",
    "\n",
    "def if_enfant_unique(family):\n",
    "    return 'F' in family and family['F'] == 1\n",
    "\n",
    "def if_deux_enfants_ou_plus(family):\n",
    "    return 'F' in family and family['F'] >= 2\n",
    "\n",
    "def nb_enfants_after_2(family):\n",
    "    if 'F' in family and family['F'] >= 2:\n",
    "        return family['F'] - 2\n",
    "    return None\n",
    "\n",
    "def if_declarant_above_65(family):\n",
    "    return age_from_box(family, '0DA') >= 65\n",
    "    \n",
    "def if_codeclarant_above_65(family):\n",
    "    return '0DB' in family and age_from_box(family, '0DB') > 65\n",
    "\n",
    "def per_declarant_above_65(family):\n",
    "    return int(age_from_box(family, '0DB') >= 65) + int(age_from_box(family, '0DA') >= 65)\n",
    "\n",
    "def per_declarant_above_24(family):\n",
    "    return int(age_from_box(family, '0DB') >= 24) + int(age_from_box(family, '0DA') >= 24)\n",
    "\n",
    "def if_one_declarant_above_24(family):\n",
    "    return (age_from_box(family, '0DA') >= 24 or ('0DB' in family and age_from_box(family, '0DB') >= 24))\n",
    "\n",
    "def if_one_declarant_above_24_or_has_children(family):\n",
    "    return (age_from_box(family, '0DA') >= 24 or ('0DB' in family and age_from_box(family, '0DB') >= 24) or \n",
    "           ('F' in family and family['F'] >= 1))\n",
    "\n",
    "def if_earns_10k(family):\n",
    "    return taxable_variable(family) > 10000\n",
    "\n",
    "def base(family):\n",
    "    return True\n",
    "\n",
    "reformator.add_concept('base', base)\n",
    "reformator.add_concept('age_dec_1', age_dec_1)\n",
    "reformator.add_concept('age_dec_2', age_dec_2)\n",
    "reformator.add_concept('taxable_variable', taxable_variable)\n",
    "reformator.add_concept('revenu_1', revenu_1)\n",
    "reformator.add_concept('revenu_2', revenu_2)\n",
    "reformator.add_concept('per_child', per_child)\n",
    "reformator.add_concept('per_child_parent_isole', per_child_parent_isole)\n",
    "reformator.add_concept('per_declarant_above_24', per_declarant_above_24)\n",
    "reformator.add_concept('per_declarant_above_65', per_declarant_above_65)\n",
    "reformator.add_concept('nb_enfants_after_2', nb_enfants_after_2)\n",
    "reformator.add_concept('if_earns_10k', if_earns_10k)\n",
    "reformator.add_concept('if_one_declarant_above_24', if_one_declarant_above_24)\n",
    "reformator.add_concept('if_one_declarant_above_24_or_has_children', if_one_declarant_above_24_or_has_children)\n",
    "reformator.add_concept('if_both_declarant_parent_below_24', if_both_declarant_parent_below_24)\n",
    "reformator.add_concept('if_declarant_above_65', if_declarant_above_65)\n",
    "reformator.add_concept('if_codeclarant_above_65', if_codeclarant_above_65)\n",
    "reformator.add_concept('if_enfant_unique', if_enfant_unique)\n",
    "reformator.add_concept('if_deux_enfants_ou_plus', if_deux_enfants_ou_plus)\n",
    "reformator.add_concept('if_two_people', if_two_people)\n",
    "reformator.add_concept('if_parent_isole', if_parent_isole)\n",
    "reformator.add_concept('if_parent_isole_moins_20k', if_parent_isole)\n",
    "\n",
    "reformator.summarize_population()"
   ]
  },
  {
   "cell_type": "markdown",
   "metadata": {},
   "source": [
    "# Plots Revenu disponible before reform"
   ]
  },
  {
   "cell_type": "code",
   "execution_count": 5,
   "metadata": {
    "collapsed": false
   },
   "outputs": [
    {
     "data": {
      "image/png": "[encoded data removed]",
      "text/plain": [
       "<matplotlib.figure.Figure at 0x104f10590>"
      ]
     },
     "metadata": {},
     "output_type": "display_data"
    }
   ],
   "source": [
    "revdisp = list(family['revdisp'] for family in reformator._population)\n",
    "\n",
    "show_histogram(revdisp, 'Distribution of revenu disponible')"
   ]
  },
  {
   "cell_type": "markdown",
   "metadata": {},
   "source": [
    "# <font color='red'>Define your reform here!</font>\n"
   ]
  },
  {
   "cell_type": "code",
   "execution_count": 33,
   "metadata": {
    "collapsed": false
   },
   "outputs": [
    {
     "name": "stdout",
     "output_type": "stream",
     "text": [
      "['per_child', 'if_one_declarant_above_24_or_has_children', 'if_two_people', 'if_parent_isole', 'if_declarant_above_65', 'if_codeclarant_above_65']\n",
      "(5_w,10)-aCMA-ES (mu_w=3.2,w_1=45%) in dimension 8 (seed=981504, Fri Oct  7 18:11:38 2016)\n",
      "Iterat #Fevals   function value  axis ratio  sigma  min&max std  t[m:s]\n",
      "    1     10 2.217197625180871e+05 1.0e+00 9.55e+03  9e+03  1e+04 0:0.1\n",
      "Best solution: average change / person / month = 1060 costing a total of -12027 millions per year\n",
      "    2     20 3.986139630212295e+05 1.2e+00 9.24e+03  9e+03  1e+04 0:0.2\n",
      "    3     30 2.773872394032241e+05 1.3e+00 8.72e+03  8e+03  9e+03 0:0.3\n",
      "Best solution: average change / person / month = 210 costing a total of -429 millions per year\n",
      "Best solution: average change / person / month = 220 costing a total of -1565 millions per year\n",
      "Best solution: average change / person / month = 1030 costing a total of 770 millions per year\n",
      "Best solution: average change / person / month = 198 costing a total of -600 millions per year\n",
      "Best solution: average change / person / month = 198 costing a total of -142 millions per year\n",
      "Best solution: average change / person / month = 192 costing a total of -518 millions per year\n",
      "Best solution: average change / person / month = 189 costing a total of -82 millions per year\n",
      "Best solution: average change / person / month = 188 costing a total of -219 millions per year\n",
      "Best solution: average change / person / month = 191 costing a total of -189 millions per year\n",
      "Best solution: average change / person / month = 186 costing a total of -125 millions per year\n",
      "Best solution: average change / person / month = 186 costing a total of -91 millions per year\n",
      "Best solution: average change / person / month = 186 costing a total of -8 millions per year\n",
      "Best solution: average change / person / month = 186 costing a total of -3 millions per year\n",
      "  100   1000 1.242539076129738e+05 2.3e+01 3.17e+01  5e+00  3e+01 0:9.7\n",
      "Best solution: average change / person / month = 995 costing a total of 0 millions per year\n",
      "Best solution: average change / person / month = 186 costing a total of 0 millions per year\n",
      "Best solution: average change / person / month = 186 costing a total of 0 millions per year\n",
      "Best solution: average change / person / month = 186 costing a total of 0 millions per year\n",
      "Best solution: average change / person / month = 186 costing a total of 0 millions per year\n",
      "Best solution: average change / person / month = 186 costing a total of 0 millions per year\n",
      "Best solution: average change / person / month = 186 costing a total of 0 millions per year\n",
      "  200   2000 1.242520877782098e+05 7.8e+02 3.03e+00  2e-01  4e+00 0:19.4\n",
      "Best solution: average change / person / month = 186 costing a total of 0 millions per year\n",
      "Best solution: average change / person / month = 186 costing a total of 0 millions per year\n",
      "Best solution: average change / person / month = 186 costing a total of 0 millions per year\n",
      "Best solution: average change / person / month = 186 costing a total of 0 millions per year\n",
      "Best solution: average change / person / month = 186 costing a total of 0 millions per year\n",
      "Best solution: average change / person / month = 186 costing a total of 0 millions per year\n",
      "Best solution: average change / person / month = 186 costing a total of 0 millions per year\n",
      "Best solution: average change / person / month = 186 costing a total of 0 millions per year\n",
      "Best solution: average change / person / month = 995 costing a total of 0 millions per year\n",
      "Best solution: average change / person / month = 995 costing a total of 0 millions per year\n",
      "  300   3000 1.242520824641885e+05 1.6e+04 3.64e-01  3e-02  5e-01 0:29.2\n",
      "Best solution: average change / person / month = 186 costing a total of 0 millions per year\n",
      "Best solution: average change / person / month = 186 costing a total of 0 millions per year\n",
      "Best solution: average change / person / month = 186 costing a total of 0 millions per year\n",
      "Best solution: average change / person / month = 995 costing a total of 0 millions per year\n",
      "Best solution: average change / person / month = 186 costing a total of 0 millions per year\n",
      "Best solution: average change / person / month = 186 costing a total of 0 millions per year\n",
      "Best solution: average change / person / month = 186 costing a total of 0 millions per year\n",
      "Best solution: average change / person / month = 995 costing a total of 0 millions per year\n",
      "Best solution: average change / person / month = 186 costing a total of 0 millions per year\n",
      "  400   4000 1.242520824215820e+05 3.1e+05 1.49e-02  6e-04  2e-02 0:38.8\n",
      "Best solution: average change / person / month = 995 costing a total of 0 millions per year\n",
      "Best solution: average change / person / month = 186 costing a total of 0 millions per year\n",
      "Best solution: average change / person / month = 186 costing a total of 0 millions per year\n",
      "Best solution: average change / person / month = 995 costing a total of 0 millions per year\n",
      "Best solution: average change / person / month = 995 costing a total of 0 millions per year\n",
      "Best solution: average change / person / month = 186 costing a total of 0 millions per year\n",
      "Best solution: average change / person / month = 186 costing a total of 0 millions per year\n",
      "WARNING (module=cma, class=CMAEvolutionStrategy, method=updateBD, iteration=448):  \n",
      " geno-pheno transformation introduced based on current C,\n",
      " injected solutions become \"invalid\" in this iteration\n",
      "Best solution: average change / person / month = 186 costing a total of 0 millions per year\n",
      "  500   5000 1.242520824214392e+05 4.9e+00 6.94e-03  4e-03  8e-03 0:48.4\n",
      "  501   5010 1.242520824214360e+05 5.0e+00 6.72e-03  4e-03  8e-03 0:48.5\n",
      "termination on maxfevals=5000.0 (Fri Oct  7 18:12:26 2016)\n",
      "final/bestever f-value = 2.485042e+05 1.242521e+05\n",
      "incumbent solution: [2219.2828633859754, 2041.9007410630584, 984.25440563261509, 5790.5372578203678, 4811.6759427413344, 924.04253382864408, 7993.0389844924212, 5568.9064066633582]\n",
      "std deviation: [0.0043298337588901434, 0.0072670267830476764, 0.0077688149196341802, 0.006679595845244168, 0.0051216419391866648, 0.0066417785446112139, 0.0068381752679954029, 0.0079097351992970018]\n"
     ]
    }
   ],
   "source": [
    "simulated_reform, error, cost, final_parameters  = reformator.suggest_reform(\n",
    "            parameters=[\n",
    "                            'per_child',\n",
    "                            'if_one_declarant_above_24_or_has_children',\n",
    "                            'if_two_people',\n",
    "                            'if_parent_isole',\n",
    "                            'if_declarant_above_65',\n",
    "                            'if_codeclarant_above_65'\n",
    "                        ],\n",
    "            tax_rate_parameters=[\n",
    "                'base',\n",
    "                'if_enfant_unique',\n",
    "                'if_deux_enfants_ou_plus',\n",
    "            ],\n",
    "            tax_threshold_parameters=[\n",
    "                'base',\n",
    "                'if_enfant_unique',\n",
    "                'if_deux_enfants_ou_plus',\n",
    "            ],\n",
    "            max_cost=0,\n",
    "            min_saving=0)"
   ]
  },
  {
   "cell_type": "code",
   "execution_count": 34,
   "metadata": {
    "collapsed": false
   },
   "outputs": [],
   "source": [
    "show_last_reform_results()"
   ]
  },
  {
   "cell_type": "code",
   "execution_count": 35,
   "metadata": {
    "collapsed": false
   },
   "outputs": [
    {
     "name": "stdout",
     "output_type": "stream",
     "text": [
      "[{'variable': 'if_one_declarant_above_24_or_has_children', 'type': 'base_revenu', 'value': 2219.282343853265}, {'variable': 'per_child', 'type': 'base_revenu', 'value': 2041.9004333093762}, {'variable': 'if_two_people', 'type': 'base_revenu', 'value': 984.25462064146996}, {'variable': 'if_declarant_above_65', 'type': 'base_revenu', 'value': 5790.5383074730635}, {'variable': 'if_codeclarant_above_65', 'type': 'base_revenu', 'value': 4811.6771410927176}, {'variable': 'if_parent_isole', 'type': 'base_revenu', 'value': 924.0449829766294}, {'variable': 'baseif_enfant_uniqueif_deux_enfants_ou_plus', 'type': 'tax_rate', 'value': 7993.0361308008432}, {'variable': 'baseif_enfant_uniqueif_deux_enfants_ou_plus', 'type': 'tax_threshold', 'value': 5568.9143402799964}]\n"
     ]
    }
   ],
   "source": [
    "print repr(final_parameters)\n",
    "def show_coefficients(final_parameters, current_type,):\n",
    "    coefficients = []\n",
    "    variables = []\n",
    "    for parameter in final_parameters:\n",
    "        if parameter['type'] == current_type:\n",
    "            coefficients.append(parameter['value']);\n",
    "            variables.append(parameter['variable'])\n",
    "\n",
    "    result_frame = pd.DataFrame({'Variables': variables, current_type + ' coef': coefficients})\n",
    "    result_frame.set_index('Variables', inplace=True)\n",
    "    qgrid.show_grid(result_frame)\n",
    "\n",
    "show_coefficients(final_parameters, 'base_revenu')\n",
    "show_coefficients(final_parameters, 'tax_rate')\n",
    "show_coefficients(final_parameters, 'tax_threshold')"
   ]
  },
  {
   "cell_type": "code",
   "execution_count": 29,
   "metadata": {
    "collapsed": false
   },
   "outputs": [],
   "source": [
    "new_pop = copy.deepcopy(reformator._population)\n",
    "\n",
    "for i in range(len(new_pop)):\n",
    "    new_pop[i]['reform'] = simulated_reform[i] \n",
    "\n",
    "def plot_for_population(pop):\n",
    "    revenu_imposable = list(family['taxable_variable'] for family in pop)\n",
    "    revdisp = list(family['revdisp'] for family in pop)\n",
    "    reform = list(family['reform'] for family in pop)\n",
    "\n",
    "    multi_scatter('Revenu disponible for different people before / after reforme', 'Revenu initial', 'Revenu disponible', [\n",
    "                  {'x':revenu_imposable, 'y':reform, 'label':'Reform', 'color':'blue'},\n",
    "                  {'x':revenu_imposable, 'y':revdisp, 'label':'Original', 'color':'red'},\n",
    "              ])"
   ]
  },
  {
   "cell_type": "code",
   "execution_count": 31,
   "metadata": {
    "collapsed": false
   },
   "outputs": [
    {
     "data": {
      "image/png": "[encoded data removed]",
      "text/plain": [
       "<matplotlib.figure.Figure at 0x117338710>"
      ]
     },
     "metadata": {},
     "output_type": "display_data"
    }
   ],
   "source": [
    "un_enfant_pop = list(filter(lambda x: x.get('per_child', 0) == 1\n",
    "                                  and x.get('age_dec_1', 0) < 65\n",
    "                                  and x.get('age_dec_2', 0) < 65,\n",
    "                            new_pop))\n",
    "plot_for_population(un_enfant_pop)\n",
    "\n"
   ]
  },
  {
   "cell_type": "code",
   "execution_count": 11,
   "metadata": {
    "collapsed": false
   },
   "outputs": [],
   "source": [
    "show_last_reform_results()"
   ]
  },
  {
   "cell_type": "code",
   "execution_count": 12,
   "metadata": {
    "collapsed": false
   },
   "outputs": [],
   "source": [
    "# simulated_reform_tree, error_tree, cost_tree, final_parameters_tree  = reformator.suggest_reform_tree(\n",
    "#             parameters=[\n",
    "#                             'per_child',\n",
    "#                             'if_one_declarant_above_24_or_has_children',\n",
    "#                             'age_dec_1',\n",
    "#                             'age_dec_2'\n",
    "#                         ],\n",
    "#                             max_cost=0,\n",
    "#                             min_saving=0,\n",
    "#                             image_file='./enfants_age',\n",
    "#                             max_depth=5,\n",
    "#                             min_samples_leaf=20\n",
    "#                         )"
   ]
  },
  {
   "cell_type": "markdown",
   "metadata": {},
   "source": [
    "# <font color=\"darkgreen\">Reform results</font>"
   ]
  },
  {
   "cell_type": "code",
   "execution_count": 13,
   "metadata": {
    "collapsed": false
   },
   "outputs": [],
   "source": [
    "# show_last_reform_results()\n",
    "# from IPython.display import Image\n",
    "# Image(filename='./enfants_age.png')"
   ]
  },
  {
   "cell_type": "markdown",
   "metadata": {},
   "source": [
    "#  <font color=\"darkgreen\">Reform parameters</font>"
   ]
  },
  {
   "cell_type": "code",
   "execution_count": null,
   "metadata": {
    "collapsed": false
   },
   "outputs": [],
   "source": []
  },
  {
   "cell_type": "markdown",
   "metadata": {},
   "source": [
    "# Plots revenu disponible after reform"
   ]
  },
  {
   "cell_type": "code",
   "execution_count": 14,
   "metadata": {
    "collapsed": false
   },
   "outputs": [
    {
     "data": {
      "image/png": "[encoded data removed]",
      "text/plain": [
       "<matplotlib.figure.Figure at 0x115e91450>"
      ]
     },
     "metadata": {},
     "output_type": "display_data"
    }
   ],
   "source": [
    "xmin = 0\n",
    "xmax = 60000\n",
    "nb_buckets = 35\n",
    "\n",
    "bins = np.linspace(xmin, xmax, nb_buckets)\n",
    "\n",
    "plt.hist(revdisp, bins, alpha=0.5, label='current')\n",
    "plt.hist(simulated_reform, bins, alpha=0.5, label='reform')\n",
    "plt.legend(loc='upper right')\n",
    "plt.show()"
   ]
  },
  {
   "cell_type": "markdown",
   "metadata": {},
   "source": [
    "# Distribution of the changes in revenu in euros"
   ]
  },
  {
   "cell_type": "code",
   "execution_count": 15,
   "metadata": {
    "collapsed": false
   },
   "outputs": [
    {
     "data": {
      "image/png": "[encoded data removed]",
      "text/plain": [
       "<matplotlib.figure.Figure at 0x115e91b50>"
      ]
     },
     "metadata": {},
     "output_type": "display_data"
    }
   ],
   "source": [
    "difference = list(simulated_reform[i] - revdisp[i] for i in range(len(simulated_reform)))\n",
    "\n",
    "show_histogram(difference, 'Changes in revenu')"
   ]
  },
  {
   "cell_type": "markdown",
   "metadata": {},
   "source": [
    "# Distribution of the change in revenu in percentage"
   ]
  },
  {
   "cell_type": "code",
   "execution_count": 16,
   "metadata": {
    "collapsed": false
   },
   "outputs": [
    {
     "data": {
      "image/png": "[encoded data removed]",
      "text/plain": [
       "<matplotlib.figure.Figure at 0x115e91710>"
      ]
     },
     "metadata": {},
     "output_type": "display_data"
    }
   ],
   "source": [
    "percentage_difference = list(100 * percent_diff(simulated_reform[i], revdisp[i]) for i in range(len(simulated_reform)))\n",
    "\n",
    "show_histogram(percentage_difference, 'Changes in revenu')"
   ]
  },
  {
   "cell_type": "markdown",
   "metadata": {},
   "source": [
    "# Change as a function of the number of children"
   ]
  },
  {
   "cell_type": "code",
   "execution_count": 17,
   "metadata": {
    "collapsed": false,
    "scrolled": true
   },
   "outputs": [
    {
     "data": {
      "image/png": "[encoded data removed]",
      "text/plain": [
       "<matplotlib.figure.Figure at 0x115d43690>"
      ]
     },
     "metadata": {},
     "output_type": "display_data"
    }
   ],
   "source": [
    "nb_children = list((reformator._population[i].get('per_child', 0)  for i in range(len(reformator._population)))) \n",
    "\n",
    "scatter_plot(nb_children, difference, 'Children', 'Difference reform - current', alpha=0.05)"
   ]
  },
  {
   "cell_type": "markdown",
   "metadata": {},
   "source": [
    "# Change as a function of the age of declarant 1\n",
    "\n",
    "A scatter plot is better than a thousand points #ChineseProverb"
   ]
  },
  {
   "cell_type": "code",
   "execution_count": 18,
   "metadata": {
    "collapsed": false
   },
   "outputs": [
    {
     "data": {
      "image/png": "[encoded data removed]",
      "text/plain": [
       "<matplotlib.figure.Figure at 0x117514b90>"
      ]
     },
     "metadata": {},
     "output_type": "display_data"
    }
   ],
   "source": [
    "age_dec1 = list((reformator._population[i].get('age_dec_1', 0)  for i in range(len(reformator._population)))) \n",
    "\n",
    "scatter_plot(age_dec1, difference, 'Age declarant 1', 'Difference reform - current', alpha=0.1)"
   ]
  },
  {
   "cell_type": "markdown",
   "metadata": {},
   "source": [
    "# <font color=\"Red\">Most important: Edge Cases</font>\n",
    "\n",
    "This is the heart of this tool: by seeing the worse cases, you can discover when the current legislation is smarter than yours (or the other way), and improve it further"
   ]
  },
  {
   "cell_type": "code",
   "execution_count": 19,
   "metadata": {
    "collapsed": false
   },
   "outputs": [],
   "source": [
    "order = sorted(range(len(simulated_reform)), key=lambda k: -abs(simulated_reform[k] - revdisp[k]))\n",
    "\n",
    "data = {}\n",
    "\n",
    "possible_keys = set()\n",
    "for i in order:\n",
    "    for key in reformator._raw_population[i]:\n",
    "        if key != 'year':\n",
    "            possible_keys.add(key)\n",
    "\n",
    "for i in order:\n",
    "    # Adding the diff with the reform.\n",
    "    differences = data.get('difference', [])\n",
    "    differences.append(abs(int(simulated_reform[i] - revdisp[i])))\n",
    "    data['difference'] = differences\n",
    "\n",
    "    for key in possible_keys:\n",
    "        new_vals = data.get(key, [])\n",
    "        value = reformator._raw_population[i].get(key, '')\n",
    "        if type(value) == float:\n",
    "            value = int(value)\n",
    "        new_vals.append(value)\n",
    "        data[key] = new_vals\n",
    "\n",
    "    # Adding reformed line.\n",
    "    reforms = data.get('reform', [])\n",
    "    reforms.append(int(simulated_reform[i]))\n",
    "    data['reform'] = reforms\n",
    "\n",
    "df = pd.DataFrame(data=data)\n",
    "df.set_index('difference', inplace=True)\n",
    "qgrid.show_grid(df)\n"
   ]
  },
  {
   "cell_type": "markdown",
   "metadata": {},
   "source": [
    "# Best compromise simplicity / matching current legislation:"
   ]
  },
  {
   "cell_type": "code",
   "execution_count": 20,
   "metadata": {
    "collapsed": false
   },
   "outputs": [
    {
     "name": "stdout",
     "output_type": "stream",
     "text": [
      "['if_one_declarant_above_24', 'if_declarant_above_64', 'if_codeclarant_above_64', 'if_both_declarant_parent_below_24', 'if_two_people', 'if_enfant_unique', 'if_deux_enfants_ou_plus', 'nb_enfants_after_2']\n",
      "(4_w,9)-aCMA-ES (mu_w=2.8,w_1=49%) in dimension 6 (seed=933768, Fri Oct  7 16:01:27 2016)\n",
      "Best solution: average change / person / month = 1904 costing a total of -31740 millions per year\n",
      "Iterat #Fevals   function value  axis ratio  sigma  min&max std  t[m:s]\n",
      "    1      9 3.284995976249402e+05 1.0e+00 9.32e+03  9e+03  1e+04 0:0.1\n",
      "    2     18 3.880225768012544e+05 1.2e+00 8.94e+03  8e+03  9e+03 0:0.2\n",
      "    3     27 3.217744053729149e+05 1.3e+00 9.26e+03  8e+03  1e+04 0:0.2\n",
      "Best solution: average change / person / month = 1588 costing a total of 512 millions per year\n",
      "Best solution: average change / person / month = 319 costing a total of -864 millions per year\n",
      "Best solution: average change / person / month = 1474 costing a total of 1283 millions per year\n",
      "Best solution: average change / person / month = 280 costing a total of -455 millions per year\n",
      "Best solution: average change / person / month = 277 costing a total of -334 millions per year\n",
      "Best solution: average change / person / month = 272 costing a total of -162 millions per year\n",
      "Best solution: average change / person / month = 276 costing a total of -414 millions per year\n",
      "Best solution: average change / person / month = 269 costing a total of -43 millions per year\n",
      "Best solution: average change / person / month = 268 costing a total of -17 millions per year\n",
      "  100    900 1.814487424070976e+05 4.0e+01 3.54e+02  2e+01  4e+02 0:8.2\n",
      "Best solution: average change / person / month = 268 costing a total of -31 millions per year\n",
      "Best solution: average change / person / month = 268 costing a total of -1 millions per year\n",
      "Best solution: average change / person / month = 268 costing a total of 0 millions per year\n",
      "Best solution: average change / person / month = 268 costing a total of 0 millions per year\n",
      "Best solution: average change / person / month = 268 costing a total of 0 millions per year\n",
      "Best solution: average change / person / month = 268 costing a total of 0 millions per year\n",
      "  200   1800 1.814071760638529e+05 5.4e+02 4.20e+00  9e-02  2e+00 0:16.2\n",
      "Best solution: average change / person / month = 268 costing a total of 0 millions per year\n",
      "Best solution: average change / person / month = 268 costing a total of 0 millions per year\n",
      "Best solution: average change / person / month = 1323 costing a total of 0 millions per year\n",
      "Best solution: average change / person / month = 1323 costing a total of 0 millions per year\n",
      "Best solution: average change / person / month = 268 costing a total of 0 millions per year\n",
      "Best solution: average change / person / month = 268 costing a total of 0 millions per year\n",
      "Best solution: average change / person / month = 268 costing a total of 0 millions per year\n",
      "Best solution: average change / person / month = 268 costing a total of 0 millions per year\n",
      "  300   2700 1.814071749540387e+05 2.3e+04 8.81e-01  8e-03  3e-01 0:24.2\n",
      "Best solution: average change / person / month = 1323 costing a total of 0 millions per year\n",
      "Best solution: average change / person / month = 268 costing a total of 0 millions per year\n",
      "Best solution: average change / person / month = 1323 costing a total of 0 millions per year\n",
      "Best solution: average change / person / month = 268 costing a total of 0 millions per year\n",
      "Best solution: average change / person / month = 268 costing a total of 0 millions per year\n",
      "Best solution: average change / person / month = 268 costing a total of 0 millions per year\n",
      "Best solution: average change / person / month = 1323 costing a total of 0 millions per year\n",
      "  400   3600 1.814071749333564e+05 6.1e+05 3.28e-02  1e-04  3e-03 0:32.3\n",
      "Best solution: average change / person / month = 1323 costing a total of 0 millions per year\n",
      "WARNING (module=cma, class=CMAEvolutionStrategy, method=updateBD, iteration=410):  \n",
      " geno-pheno transformation introduced based on current C,\n",
      " injected solutions become \"invalid\" in this iteration\n",
      "Best solution: average change / person / month = 1323 costing a total of 0 millions per year\n",
      "Best solution: average change / person / month = 268 costing a total of 0 millions per year\n",
      "Best solution: average change / person / month = 268 costing a total of 0 millions per year\n",
      "Best solution: average change / person / month = 1323 costing a total of 0 millions per year\n",
      "Best solution: average change / person / month = 268 costing a total of 0 millions per year\n",
      "Best solution: average change / person / month = 268 costing a total of 0 millions per year\n",
      "Best solution: average change / person / month = 268 costing a total of 0 millions per year\n",
      "  500   4500 1.814071749333571e+05 7.2e+00 8.32e-03  4e-03  9e-03 0:40.4\n",
      "Best solution: average change / person / month = 268 costing a total of 0 millions per year\n",
      "Best solution: average change / person / month = 1323 costing a total of 0 millions per year\n",
      "Best solution: average change / person / month = 1323 costing a total of 0 millions per year\n",
      "Best solution: average change / person / month = 268 costing a total of 0 millions per year\n",
      "Best solution: average change / person / month = 1323 costing a total of 0 millions per year\n",
      "Best solution: average change / person / month = 268 costing a total of 0 millions per year\n",
      "  556   5004 1.814071749333570e+05 1.3e+01 2.36e-02  7e-03  2e-02 0:44.9\n",
      "termination on maxfevals=5000.0 (Fri Oct  7 16:02:11 2016)\n",
      "final/bestever f-value = 1.814072e+05 1.814072e+05\n",
      "incumbent solution: [4455.6856469139457, 2749.0100117921829, 2973.8209836483002, 3647.170378357172, 1328.4600957632065, 2255.0250826925039]\n",
      "std deviation: [0.024422097792424352, 0.01539668954456733, 0.0088893806405097968, 0.014896293805472999, 0.0071655381219200851, 0.022225891363088224]\n"
     ]
    }
   ],
   "source": [
    "res, error, cost, final_parameters = reformator.suggest_reform(parameters=[\n",
    "                            'if_one_declarant_above_24',\n",
    "                            'if_declarant_above_64',\n",
    "                            'if_codeclarant_above_64',\n",
    "                            'if_both_declarant_parent_below_24',\n",
    "                            'if_two_people',\n",
    "                            'if_enfant_unique',\n",
    "                            'if_deux_enfants_ou_plus',\n",
    "                            'nb_enfants_after_2',\n",
    "                           ])"
   ]
  },
  {
   "cell_type": "code",
   "execution_count": 21,
   "metadata": {
    "collapsed": false
   },
   "outputs": [],
   "source": [
    "coefficients = list(map(lambda x: x['value'], final_parameters)); variables = list(map(lambda x: x['variable'], final_parameters))\n",
    "result_frame = pd.DataFrame({'Variables': variables, 'Coefficient': coefficients})\n",
    "result_frame.set_index('Variables', inplace=True)\n",
    "qgrid.show_grid(result_frame)"
   ]
  },
  {
   "cell_type": "code",
   "execution_count": null,
   "metadata": {
    "collapsed": true
   },
   "outputs": [],
   "source": []
  },
  {
   "cell_type": "code",
   "execution_count": null,
   "metadata": {
    "collapsed": true
   },
   "outputs": [],
   "source": []
  },
  {
   "cell_type": "code",
   "execution_count": null,
   "metadata": {
    "collapsed": true
   },
   "outputs": [],
   "source": []
  },
  {
   "cell_type": "code",
   "execution_count": null,
   "metadata": {
    "collapsed": true
   },
   "outputs": [],
   "source": []
  }
 ],
 "metadata": {
  "kernelspec": {
   "display_name": "Python 2",
   "language": "python",
   "name": "python2"
  },
  "language_info": {
   "codemirror_mode": {
    "name": "ipython",
    "version": 2
   },
   "file_extension": ".py",
   "mimetype": "text/x-python",
   "name": "python",
   "nbconvert_exporter": "python",
   "pygments_lexer": "ipython2",
   "version": "2.7.10"
  },
  "widgets": {
   "state": {
    "0240b259ba5f471a95ac714e63f906a8": {
     "views": [
      {
       "cell_index": 13
      }
     ]
    },
    "03b86fe7a4684a2586133527edb3d3ed": {
     "views": [
      {
       "cell_index": 13
      }
     ]
    },
    "0c5bae272e014422b6e18aca9ad434a9": {
     "views": [
      {
       "cell_index": 13
      }
     ]
    },
    "0f439ef84a6541ee824be811431ade2b": {
     "views": [
      {
       "cell_index": 13
      }
     ]
    },
    "13b31b2e22224f5799c080d8259edceb": {
     "views": [
      {
       "cell_index": 13
      }
     ]
    },
    "1829f3d3be674788918f5431b598568e": {
     "views": [
      {
       "cell_index": 13
      }
     ]
    },
    "1b3eb4ec7dcc415f81e04fb6fbfae67e": {
     "views": [
      {
       "cell_index": 13
      }
     ]
    },
    "25f900583d31480e828ef8c618cbea44": {
     "views": [
      {
       "cell_index": 13
      }
     ]
    },
    "28610b38861c41e69f33e31dd2b0037c": {
     "views": [
      {
       "cell_index": 13
      }
     ]
    },
    "2aa543e7269846b1a6cdb1e7600e7293": {
     "views": [
      {
       "cell_index": 13
      }
     ]
    },
    "31c948f623a342a9b206448e99f408dc": {
     "views": [
      {
       "cell_index": 13
      }
     ]
    },
    "33b06392a7bb4206ba1d11cde440333b": {
     "views": [
      {
       "cell_index": 13
      }
     ]
    },
    "37443e97a7e144c4a871ee7bc9f6b4cb": {
     "views": [
      {
       "cell_index": 15
      }
     ]
    },
    "3e75323f9dd14b208d2e300b24f33984": {
     "views": [
      {
       "cell_index": 13
      }
     ]
    },
    "48a6b50ae5cb41069756d6442f45a6c1": {
     "views": [
      {
       "cell_index": 13
      }
     ]
    },
    "497f017f274041ab9d2068e3a1c88148": {
     "views": [
      {
       "cell_index": 16
      }
     ]
    },
    "563aef6c3a464a21b7756b7070117543": {
     "views": [
      {
       "cell_index": 13
      }
     ]
    },
    "56e2d070147a4c5d8acf90212805b056": {
     "views": [
      {
       "cell_index": 13
      }
     ]
    },
    "58c3d3dffbc249369380c5f7a141ba9a": {
     "views": [
      {
       "cell_index": 13
      }
     ]
    },
    "618df9bdd43940058b729ad5d5a69a5d": {
     "views": [
      {
       "cell_index": 13
      }
     ]
    },
    "680389eedcb34142a242c9d956bea91f": {
     "views": [
      {
       "cell_index": 13
      }
     ]
    },
    "6f813c921cbe48c4bb408f55f5ace366": {
     "views": [
      {
       "cell_index": 13
      }
     ]
    },
    "71fad38c6e334fff9bcbc9b6841dc8cd": {
     "views": [
      {
       "cell_index": 33
      }
     ]
    },
    "724477b2ee9245d1972e756f0f1d8508": {
     "views": [
      {
       "cell_index": 13
      }
     ]
    },
    "730646035fba456a9a14a7b5f1538859": {
     "views": [
      {
       "cell_index": 13
      }
     ]
    },
    "7aca03f821554a2dbec933eccc7df043": {
     "views": [
      {
       "cell_index": 13
      }
     ]
    },
    "7c2281210c584fad88a73e43ac10ccfb": {
     "views": [
      {
       "cell_index": 13
      }
     ]
    },
    "8262e43c710f4fd5b4bcbfb6273114ba": {
     "views": [
      {
       "cell_index": 13
      }
     ]
    },
    "8a92be2e3c1c4fe9bcee64de3e2639e3": {
     "views": [
      {
       "cell_index": 12
      }
     ]
    },
    "8ea11fb6dbc14999a82ffbe45bb38b65": {
     "views": [
      {
       "cell_index": 13
      }
     ]
    },
    "93b396dc9ab34715a3c24de109347113": {
     "views": [
      {
       "cell_index": 13
      }
     ]
    },
    "9f1b26a7cd85474e9ac5dc7c4e93b551": {
     "views": [
      {
       "cell_index": 13
      }
     ]
    },
    "a5bd15723f80440f93f573963330308e": {
     "views": [
      {
       "cell_index": 36
      }
     ]
    },
    "abfaab1a74ef48f89c2f5498a3eb8807": {
     "views": [
      {
       "cell_index": 13
      }
     ]
    },
    "b30fb05cdc56476fbcc3b5283dc9d476": {
     "views": [
      {
       "cell_index": 13
      }
     ]
    },
    "b57c74e11ec648aea1cda7d28c5e3086": {
     "views": [
      {
       "cell_index": 13
      }
     ]
    },
    "b70e702f657a404eb5827da04756161d": {
     "views": [
      {
       "cell_index": 13
      }
     ]
    },
    "ca6056b47d05409b9d402a349f268abf": {
     "views": [
      {
       "cell_index": 13
      }
     ]
    },
    "cd45373014c2484fbac9bf799bcec8a3": {
     "views": [
      {
       "cell_index": 15
      }
     ]
    },
    "cff77eab3c8d4ab1ba85736d993c9cdc": {
     "views": [
      {
       "cell_index": 13
      }
     ]
    },
    "d6ea9fd24eb64f8d99cd7d560cebc507": {
     "views": [
      {
       "cell_index": 13
      }
     ]
    },
    "e610319c1e7e4591ad4f95c33270d05c": {
     "views": [
      {
       "cell_index": 13
      }
     ]
    },
    "ef4cd955640e495c8465a94fee3923c2": {
     "views": [
      {
       "cell_index": 13
      }
     ]
    },
    "f7f530fdadbe4fda972e9945f3b1374d": {
     "views": [
      {
       "cell_index": 15
      }
     ]
    },
    "fb6643cf8ad8478d88ac822586a958b4": {
     "views": [
      {
       "cell_index": 13
      }
     ]
    },
    "fb977ac7690a436fbd99c2d87e970359": {
     "views": [
      {
       "cell_index": 13
      }
     ]
    },
    "fe3f42c126644f7eb2f3be77e0454219": {
     "views": [
      {
       "cell_index": 13
      }
     ]
    }
   },
   "version": "1.2.0"
  }
 },
 "nbformat": 4,
 "nbformat_minor": 0
}
