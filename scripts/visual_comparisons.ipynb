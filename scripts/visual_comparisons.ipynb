{
 "cells": [
  {
   "cell_type": "markdown",
   "metadata": {
    "collapsed": false
   },
   "source": [
    "Guillaume Chaslot <guillaume.chaslot@data.gouv.fr>\n",
    "\n",
    "#  Visulal Comparator for simulators\n",
    "\n",
    "There are several simulators for the same tax (e.g., irpp), it is important to compare them to detect bugs.\n",
    "This notebook propose a vizualization of the comparisons\n",
    "\n",
    "## How to improve the comparator\n",
    "\n",
    "* add a case cerfa with the distribution you like in CerfaPopulationSimulator in population_simulator.py\n",
    "* add method to convert this case cerfa to the correct input for each comparator (M / Openfisca / Online) in input_variable_converter.py. Most conversion CERFA -> M and CERFA -> Online are already working\n",
    "* run a comparison, e.g.: \"python simulate_comparators --tests=2000 --save='my_comparison' --ir\"\n",
    "* vizualize the results in this notebook by loading the results saved in \"my_comparison\""
   ]
  },
  {
   "cell_type": "code",
   "execution_count": null,
   "metadata": {
    "collapsed": false
   },
   "outputs": [],
   "source": [
    "from compare_simulators import CalculatorComparator\n",
    "from population_simulator import CerfaPopulationSimulator\n",
    "import matplotlib.pyplot as plt\n",
    "from utils import multi_scatter\n",
    "\n",
    "%matplotlib inline"
   ]
  },
  {
   "cell_type": "markdown",
   "metadata": {},
   "source": [
    "# Define which test results you want to display"
   ]
  },
  {
   "cell_type": "code",
   "execution_count": null,
   "metadata": {
    "collapsed": false
   },
   "outputs": [],
   "source": [
    "# Creating the comparator and loading existing results\n",
    "\n",
    "comp = CalculatorComparator()\n",
    "\n",
    "# Load comparison that were already done\n",
    "comp.load_results_from_json('1aj-1bj-f-2000')\n",
    "\n",
    "# If you want to run tests comparing openfisca / M / Online, run:\n",
    "# 'python simulate_comparators', which arguments are the following:\n",
    "\n",
    "#   --tests     The number of \"declaration of revenu\" to simulate\n",
    "#   --ir        If we only compute the \"impot sur le revenu\"\n",
    "#   --save      Saves the result in a given json file\n",
    "#   --load      Loads test results from the given json file\n",
    "#   --linear   If we generate from a linear distribution instead of a\n",
    "#                    gaussian one.\n",
    "\n",
    "# If you want to change the population simulated, you can do so in CerfaPopulationSimulator"
   ]
  },
  {
   "cell_type": "code",
   "execution_count": null,
   "metadata": {
    "collapsed": true
   },
   "outputs": [],
   "source": [
    "# Adding both salaries\n",
    "salaire1 = comp.get_variable_from_testcases('1AJ')\n",
    "salaire2 = comp.get_variable_from_testcases('1BJ')\n",
    "salaire = list([(salaire1[i] + salaire2[i]) for i in range(0, len(salaire1))])\n",
    "\n",
    "revdisp = comp.get_variable_from_openfisca('revdisp')\n",
    "impot_openfisca = comp.get_variable_from_openfisca('irpp') \n",
    "impot_m = comp.get_variable_from_m('IRN')\n",
    "impot_online = comp.get_variable_from_online('IINET')"
   ]
  },
  {
   "cell_type": "markdown",
   "metadata": {},
   "source": [
    "# Plotting impot sur le revenu for different calculators"
   ]
  },
  {
   "cell_type": "code",
   "execution_count": null,
   "metadata": {
    "collapsed": false
   },
   "outputs": [],
   "source": [
    "multi_scatter('Tax for different people / calculators', 'Revenu', 'Impot sur le revenu', [\n",
    "                  {'x':salaire, 'y':impot_openfisca, 'label':'Openfisca', 'color':'blue'},\n",
    "                  {'x':salaire, 'y':impot_m, 'label':'M', 'color':'green'},\n",
    "                  {'x':salaire, 'y':impot_online, 'label':'Online', 'color':'yellow'},\n",
    "              ])"
   ]
  },
  {
   "cell_type": "markdown",
   "metadata": {},
   "source": [
    "# Computing and plotting the differences between calculators"
   ]
  },
  {
   "cell_type": "code",
   "execution_count": null,
   "metadata": {
    "collapsed": false
   },
   "outputs": [],
   "source": [
    "diff_openfisca = [a_i - b_i for a_i, b_i in zip(impot_openfisca, impot_online)]\n",
    "diff_m = [a_i - b_i for a_i, b_i in zip(impot_m, impot_online)]\n",
    "\n",
    "# TOOL 1 to find discrepencies: differences\n",
    "\n",
    "# Plotting difference between:\n",
    "# 1) openfisca and online\n",
    "# 2) m and online\n",
    "\n",
    "# x = salary (1AJ)\n",
    "# y_yellow = difference between openfisca and online calculator\n",
    "# y_blue = difference between m and online calculator\n",
    "\n",
    "####################################\n",
    "# Filtering dimensions of interest #\n",
    "####################################\n",
    "# for i in range(0, len(salaire1)):\n",
    "#     #Removing veufs and children\n",
    "#      if ('V' in comp.testcases[i]):\n",
    "# #             or ('F' in comp.testcases[i] and comp.testcases[i]['F'] > 0)):\n",
    "# #     if ('F' in comp.testcases[i] and comp.testcases[i]['F'] != 2):    \n",
    "#         diff_m[i] = -1000\n",
    "# #         diff_openfisca[i] = -1000\n",
    "\n",
    "multi_scatter('Tax for different people / calculators', 'Revenu', 'Impot sur le revenu', [\n",
    "                  {'x':salaire, 'y':diff_openfisca, 'label':'Openfisca', 'color':'blue'},\n",
    "                  {'x':salaire, 'y':diff_m, 'label':'M', 'color':'green'},\n",
    "              ])\n",
    "\n",
    "plt.scatter(\n",
    "    salaire + salaire,\n",
    "    diff_m + diff_openfisca,\n",
    "    c=['green'] * len(diff_m) + ['blue'] * len(diff_openfisca))"
   ]
  },
  {
   "cell_type": "markdown",
   "metadata": {},
   "source": [
    "# Finding a commun ground between calculators"
   ]
  },
  {
   "cell_type": "code",
   "execution_count": null,
   "metadata": {
    "collapsed": false
   },
   "outputs": [],
   "source": [
    "\n",
    "# Computing Probable outliner:\n",
    "# if two calculators are equal and one is different, the different might be the one buggy\n",
    "\n",
    "def commun(a, b, c):\n",
    "    diffa = min(abs(a-b), abs(a-c))\n",
    "    diffb = min(abs(a-b), abs(b-c))\n",
    "    diffc = min(abs(c-b), abs(a-c))\n",
    "\n",
    "    if diffa <= diffb and diffa <= diffc:\n",
    "        return a\n",
    "    if diffb <= diffa and diffb <= diffc:\n",
    "        return b\n",
    "    if diffc <= diffa and diffc <= diffb:\n",
    "        return c\n",
    "    # We do not handle yet the hypothetic case of a circular reference\n",
    "    print 'Circular condition, please define behavior here' \n",
    "    assert(False)\n",
    "\n",
    "probable_true_tax = []\n",
    "for i in range(0, len(impot_m)):\n",
    "    probable_true_tax.append(commun(impot_m[i], impot_online[i], impot_openfisca[i]))"
   ]
  },
  {
   "cell_type": "code",
   "execution_count": null,
   "metadata": {
    "collapsed": false
   },
   "outputs": [],
   "source": [
    "# x = salary\n",
    "# y = probable_true_tax\n",
    "\n",
    "plt.scatter(\n",
    "    salaire,\n",
    "    probable_true_tax,\n",
    "    c= ['red'] * len(probable_true_tax))"
   ]
  },
  {
   "cell_type": "code",
   "execution_count": null,
   "metadata": {
    "collapsed": false
   },
   "outputs": [],
   "source": [
    "# Errors of openfisca\n",
    "error_openfisca = [abs(a_i - b_i) for a_i, b_i in zip(impot_openfisca, probable_true_tax)]\n",
    "\n",
    "plt.title('Errors of Openfisca')\n",
    "plt.scatter(\n",
    "    salaire,\n",
    "    error_openfisca)\n"
   ]
  },
  {
   "cell_type": "code",
   "execution_count": null,
   "metadata": {
    "collapsed": false
   },
   "outputs": [],
   "source": [
    "# Errors of m\n",
    "error_m = [abs(a_i - b_i) for a_i, b_i in zip(impot_m, probable_true_tax)]\n",
    "\n",
    "plt.title('Errors of M')\n",
    "plt.scatter(\n",
    "    salaire,\n",
    "    error_m,\n",
    "    c=['green'] * len(impot_m))"
   ]
  },
  {
   "cell_type": "code",
   "execution_count": null,
   "metadata": {
    "collapsed": false
   },
   "outputs": [],
   "source": [
    "# Errors of online\n",
    "error_online = [abs(a_i - b_i) for a_i, b_i in zip(impot_online, probable_true_tax)]\n",
    "\n",
    "plt.title('Possible errors for the online calculator')\n",
    "plt.scatter(\n",
    "    salaire,\n",
    "    error_online,\n",
    "    c=['yellow'] * len(impot_online))"
   ]
  },
  {
   "cell_type": "code",
   "execution_count": null,
   "metadata": {
    "collapsed": false
   },
   "outputs": [],
   "source": [
    "# TOOL 3 to find discrepencies: showing worst testcases\n",
    "\n",
    "def show_highest_discrepencies(my_list):\n",
    "    index_errors = sorted(range(len(my_list)), key=lambda k: my_list[k], reverse=True)\n",
    "    average_age = 0\n",
    "\n",
    "    from input_variable_converter import CerfaOpenFiscaConverter\n",
    "    input_converter = CerfaOpenFiscaConverter()\n",
    "    worst_testcases = []\n",
    "    for i in range(0, len(salaire)):\n",
    "        idx = index_errors[i]\n",
    "        print 'Testcase: ' + repr(comp.testcases[idx])\n",
    "        print 'Impot m: ' + repr(int(impot_m[idx]))\n",
    "        print 'Impot openfisca: ' + repr(int(impot_openfisca[idx]))\n",
    "        print 'Impot online: ' + repr(int(impot_online[idx]))\n",
    "        worst_testcases.append(comp.testcases[index_errors[i]])\n",
    "    return worst_testcases"
   ]
  },
  {
   "cell_type": "code",
   "execution_count": null,
   "metadata": {
    "collapsed": false
   },
   "outputs": [],
   "source": [
    "worst_testcases = show_highest_discrepencies(error_openfisca)"
   ]
  },
  {
   "cell_type": "code",
   "execution_count": null,
   "metadata": {
    "collapsed": false
   },
   "outputs": [],
   "source": [
    "# TOOL 3.2 to find discrepencies: analyzing the worst testcases\n",
    "from compare_simulators import CalculatorComparator\n",
    "\n",
    "comparator = CalculatorComparator()\n",
    "\n",
    "# comparator.simulate_m([worst_testcases[0]], {})\n",
    "# comparator.simulate_of([worst_testcases[0]])\n",
    "# comparator.simulate_online([worst_testcases[0]],{})"
   ]
  },
  {
   "cell_type": "code",
   "execution_count": null,
   "metadata": {
    "collapsed": false
   },
   "outputs": [],
   "source": [
    "show_highest_discrepencies(error_m)"
   ]
  },
  {
   "cell_type": "code",
   "execution_count": null,
   "metadata": {
    "collapsed": false
   },
   "outputs": [],
   "source": [
    "# Marginal tax rate\n",
    "\n",
    "probable_true_marginal_rate = []\n",
    "for i in range(0, len(salaire)):\n",
    "    probable_true_marginal_rate.append(100 * probable_true_tax[i] / (salaire[i]+0.01))\n",
    "plt.title('True tax paid / each person of the population')\n",
    "plt.scatter(\n",
    "    salaire,\n",
    "    probable_true_marginal_rate,\n",
    "    c=['yellow'] * len(impot_online))"
   ]
  },
  {
   "cell_type": "code",
   "execution_count": null,
   "metadata": {
    "collapsed": false
   },
   "outputs": [],
   "source": [
    "# TOOL 4 to find discrepencies: weighting input variables by error\n",
    "\n",
    "# For instance, we could find a bug that people born in 1936 with a salary of 19k have a discrepency in M\n",
    "\n",
    "combined_total = {}\n",
    "combined_total_ref = {}\n",
    "combined_diff = {}\n",
    "for var in comp.testcases[0]:\n",
    "    combined_total[var] = 0\n",
    "    combined_total_ref[var] = 0\n",
    "combined_weights = 0 \n",
    "\n",
    "for i in range(0, len(salaire)):\n",
    "    for var in comp.testcases[i]:\n",
    "        combined_total[var] = combined_total.get(var, 0) + comp.testcases[i].get(var, 0) * error_openfisca[i]\n",
    "        combined_total_ref[var] = combined_total_ref.get(var, 0) + comp.testcases[i][var]\n",
    "    combined_weights += error_openfisca[i]\n",
    "for var in combined_total:\n",
    "    combined_total[var] = combined_total[var] / combined_weights\n",
    "    combined_total_ref[var] = combined_total_ref[var] / len(salaire)\n",
    "    combined_diff[var] = combined_total[var] - combined_total_ref[var]\n",
    "\n",
    "print 'Reference average: ' + repr(combined_total_ref)\n",
    "print 'Weighted by bug average: ' + repr(combined_total)\n",
    "print 'Difference: ' + repr(combined_diff)\n"
   ]
  },
  {
   "cell_type": "code",
   "execution_count": null,
   "metadata": {
    "collapsed": false
   },
   "outputs": [],
   "source": [
    "# Disposable income\n",
    "plt.scatter(\n",
    "    salaire,\n",
    "    revdisp,\n",
    "    c=['yellow'] * len(impot_online))"
   ]
  },
  {
   "cell_type": "code",
   "execution_count": null,
   "metadata": {
    "collapsed": false
   },
   "outputs": [],
   "source": [
    "for i in range(0, len(salaire)):\n",
    "    if revdisp[i] > salaire[i] + 18000 and ('C' in comp.testcases[i]) and ('F' in comp.testcases[i]) and comp.testcases[i]['F'] < 4:\n",
    "        print revdisp[i]\n",
    "        print comp.testcases[i]\n"
   ]
  },
  {
   "cell_type": "code",
   "execution_count": null,
   "metadata": {
    "collapsed": false
   },
   "outputs": [],
   "source": [
    "# Government help:\n",
    "balance_x = []\n",
    "balance_y = []\n",
    "for i in range(0, len(salaire)):\n",
    "    if ('F' not in comp.testcases[i]):\n",
    "        balance_x.append(salaire[i])\n",
    "        balance_y.append(revdisp[i] - salaire[i])\n",
    "\n",
    "# Disposable income\n",
    "plt.scatter(\n",
    "    balance_x,\n",
    "    balance_y,\n",
    "    c=['magenta'] * len(impot_online))"
   ]
  },
  {
   "cell_type": "code",
   "execution_count": null,
   "metadata": {
    "collapsed": false
   },
   "outputs": [],
   "source": [
    "# comparator.simulate_m([{u'C': 1, u'1AJ': 0, u'0DA': 1992, u'year': 2014}], {})\n",
    "test = comparator.simulate_of([{u'F': 2, u'M': 1, u'year': 2014, u'1BJ': 0, u'0DB': 1950, u'0DA': 1981, u'1AJ': 0}])\n",
    "# comparator.simulate_online([{u'C': 1, u'1AJ': 0, u'0DA': 1992, u'year': 2014}],{})\n"
   ]
  },
  {
   "cell_type": "code",
   "execution_count": null,
   "metadata": {
    "collapsed": true
   },
   "outputs": [],
   "source": []
  },
  {
   "cell_type": "code",
   "execution_count": null,
   "metadata": {
    "collapsed": true
   },
   "outputs": [],
   "source": []
  },
  {
   "cell_type": "code",
   "execution_count": null,
   "metadata": {
    "collapsed": true
   },
   "outputs": [],
   "source": []
  }
 ],
 "metadata": {
  "kernelspec": {
   "display_name": "Python 2",
   "language": "python",
   "name": "python2"
  },
  "language_info": {
   "codemirror_mode": {
    "name": "ipython",
    "version": 2
   },
   "file_extension": ".py",
   "mimetype": "text/x-python",
   "name": "python",
   "nbconvert_exporter": "python",
   "pygments_lexer": "ipython2",
   "version": "2.7.10"
  }
 },
 "nbformat": 4,
 "nbformat_minor": 0
}
