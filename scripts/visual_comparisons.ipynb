{
 "cells": [
  {
   "cell_type": "code",
   "execution_count": 1,
   "metadata": {
    "collapsed": false
   },
   "outputs": [],
   "source": [
    "from compare_simulators import CalculatorComparator\n",
    "from population_simulator import CerfaPopulationSimulator\n",
    "import matplotlib.pyplot as plt\n",
    "%matplotlib inline\n"
   ]
  },
  {
   "cell_type": "code",
   "execution_count": null,
   "metadata": {
    "collapsed": false
   },
   "outputs": [
    {
     "name": "stdout",
     "output_type": "stream",
     "text": [
      "Generating test cases:\n",
      "{'year': 2014, '0DA': 1955, '1AJ': 24152.703294162537}\n",
      "{'year': 2014, '0DA': 1939, '1AJ': 43211.99358631694}\n",
      "{'year': 2014, '0DA': 1982, '1AJ': 41129.20501543228}\n",
      "{'year': 2014, '0DA': 1943, '1AJ': 29491.299140089297}\n",
      "{'year': 2014, '0DA': 1958, '1AJ': 0}\n",
      "{'year': 2014, '0DA': 1977, '1AJ': 0}\n",
      "{'year': 2014, '0DA': 1972, '1AJ': 17431.910460244086}\n",
      "{'year': 2014, '0DA': 1933, '1AJ': 0}\n",
      "{'year': 2014, '0DA': 1971, '1AJ': 32229.593805146178}\n",
      "{'year': 2014, '0DA': 1967, '1AJ': 0}\n",
      "{'year': 2014, '0DA': 1994, '1AJ': 3290.4084829706626}\n",
      "{'year': 2014, '0DA': 1975, '1AJ': 13699.91150780458}\n",
      "{'year': 2014, '0DA': 1932, '1AJ': 29617.100802357636}\n",
      "{'year': 2014, '0DA': 1949, '1AJ': 12876.764154362296}\n",
      "{'year': 2014, '0DA': 1990, '1AJ': 5558.221822414076}\n",
      "{'year': 2014, '0DA': 1956, '1AJ': 28109.367634769183}\n",
      "{'year': 2014, '0DA': 1988, '1AJ': 41478.085311841445}\n",
      "{'year': 2014, '0DA': 1980, '1AJ': 11390.577044054477}\n",
      "{'year': 2014, '0DA': 1958, '1AJ': 0}\n",
      "{'year': 2014, '0DA': 1967, '1AJ': 0}\n",
      "{'year': 2014, '0DA': 1941, '1AJ': 6011.630268160354}\n",
      "{'year': 2014, '0DA': 1996, '1AJ': 20849.74052222583}\n",
      "{'year': 2014, '0DA': 1967, '1AJ': 0}\n",
      "{'year': 2014, '0DA': 1974, '1AJ': 0}\n",
      "{'year': 2014, '0DA': 1933, '1AJ': 0}\n",
      "{'year': 2014, '0DA': 1994, '1AJ': 0}\n",
      "{'year': 2014, '0DA': 1927, '1AJ': 0}\n",
      "{'year': 2014, '0DA': 1929, '1AJ': 0}\n",
      "{'year': 2014, '0DA': 1996, '1AJ': 31375.06402574334}\n",
      "{'year': 2014, '0DA': 1962, '1AJ': 0}\n",
      "{'year': 2014, '0DA': 1952, '1AJ': 18799.40333169647}\n",
      "{'year': 2014, '0DA': 1957, '1AJ': 0}\n",
      "{'year': 2014, '0DA': 1974, '1AJ': 0}\n",
      "{'year': 2014, '0DA': 1957, '1AJ': 0}\n",
      "{'year': 2014, '0DA': 1964, '1AJ': 36813.03834690863}\n",
      "{'year': 2014, '0DA': 1957, '1AJ': 42353.64587781548}\n",
      "{'year': 2014, '0DA': 1945, '1AJ': 34947.622544120575}\n",
      "{'year': 2014, '0DA': 1965, '1AJ': 0}\n",
      "{'year': 2014, '0DA': 1966, '1AJ': 0}\n",
      "{'year': 2014, '0DA': 1968, '1AJ': 0}\n",
      "{'year': 2014, '0DA': 1975, '1AJ': 0}\n",
      "{'year': 2014, '0DA': 1963, '1AJ': 17371.13005065645}\n",
      "{'year': 2014, '0DA': 1977, '1AJ': 0}\n",
      "{'year': 2014, '0DA': 1937, '1AJ': 0}\n",
      "{'year': 2014, '0DA': 1955, '1AJ': 32652.44804059481}\n",
      "{'year': 2014, '0DA': 1993, '1AJ': 28891.65131156455}\n",
      "{'year': 2014, '0DA': 1938, '1AJ': 9666.955897102816}\n",
      "{'year': 2014, '0DA': 1950, '1AJ': 18781.161305141814}\n",
      "{'year': 2014, '0DA': 1934, '1AJ': 36784.912368815334}\n",
      "{'year': 2014, '0DA': 1965, '1AJ': 3846.326564188217}\n",
      "{'year': 2014, '0DA': 1970, '1AJ': 0}\n",
      "{'year': 2014, '0DA': 1936, '1AJ': 0}\n",
      "{'year': 2014, '0DA': 1957, '1AJ': 54239.88947755391}\n",
      "{'year': 2014, '0DA': 1929, '1AJ': 901.9157328544861}\n",
      "{'year': 2014, '0DA': 1979, '1AJ': 9075.368680717664}\n",
      "{'year': 2014, '0DA': 1972, '1AJ': 22760.297243191246}\n",
      "{'year': 2014, '0DA': 1940, '1AJ': 0}\n",
      "{'year': 2014, '0DA': 1988, '1AJ': 14356.602198721066}\n",
      "{'year': 2014, '0DA': 1984, '1AJ': 19675.087606936053}\n",
      "{'year': 2014, '0DA': 1984, '1AJ': 16478.68219682935}\n",
      "{'year': 2014, '0DA': 1969, '1AJ': 4851.129199671213}\n",
      "{'year': 2014, '0DA': 1953, '1AJ': 25058.638811394172}\n",
      "{'year': 2014, '0DA': 1947, '1AJ': 32743.184307601405}\n",
      "{'year': 2014, '0DA': 1944, '1AJ': 0}\n",
      "{'year': 2014, '0DA': 1932, '1AJ': 30116.116676240366}\n",
      "{'year': 2014, '0DA': 1972, '1AJ': 0}\n",
      "{'year': 2014, '0DA': 1938, '1AJ': 0}\n",
      "{'year': 2014, '0DA': 1972, '1AJ': 0}\n",
      "{'year': 2014, '0DA': 1977, '1AJ': 31906.127769572362}\n",
      "{'year': 2014, '0DA': 1933, '1AJ': 15027.628597875337}\n",
      "{'year': 2014, '0DA': 1970, '1AJ': 6927.063363625855}\n",
      "{'year': 2014, '0DA': 1930, '1AJ': 31462.475240580294}\n",
      "{'year': 2014, '0DA': 1968, '1AJ': 0}\n",
      "{'year': 2014, '0DA': 1943, '1AJ': 0}\n",
      "{'year': 2014, '0DA': 1950, '1AJ': 19626.548507812684}\n",
      "{'year': 2014, '0DA': 1936, '1AJ': 47608.429259065226}\n",
      "{'year': 2014, '0DA': 1975, '1AJ': 21448.335534893202}\n",
      "{'year': 2014, '0DA': 1979, '1AJ': 0}\n",
      "{'year': 2014, '0DA': 1952, '1AJ': 0}\n",
      "{'year': 2014, '0DA': 1930, '1AJ': 39034.71432461208}\n",
      "{'year': 2014, '0DA': 1939, '1AJ': 35991.28874534764}\n",
      "{'year': 2014, '0DA': 1944, '1AJ': 15550.631148689226}\n",
      "{'year': 2014, '0DA': 1968, '1AJ': 0}\n",
      "{'year': 2014, '0DA': 1974, '1AJ': 16414.062397578684}\n",
      "{'year': 2014, '0DA': 1940, '1AJ': 0}\n",
      "{'year': 2014, '0DA': 1975, '1AJ': 2186.44670308684}\n",
      "{'year': 2014, '0DA': 1985, '1AJ': 21547.294509470627}\n",
      "{'year': 2014, '0DA': 1976, '1AJ': 0}\n",
      "{'year': 2014, '0DA': 1981, '1AJ': 21523.284617907157}\n",
      "{'year': 2014, '0DA': 1977, '1AJ': 34193.89963205658}\n",
      "{'year': 2014, '0DA': 1995, '1AJ': 0}\n",
      "{'year': 2014, '0DA': 1974, '1AJ': 17120.81673228343}\n",
      "{'year': 2014, '0DA': 1994, '1AJ': 0}\n",
      "{'year': 2014, '0DA': 1987, '1AJ': 29850.00547422841}\n",
      "{'year': 2014, '0DA': 1945, '1AJ': 0}\n",
      "{'year': 2014, '0DA': 1935, '1AJ': 33670.61471887309}\n",
      "{'year': 2014, '0DA': 1943, '1AJ': 8933.924473608662}\n",
      "{'year': 2014, '0DA': 1990, '1AJ': 0}\n",
      "{'year': 2014, '0DA': 1971, '1AJ': 0}\n",
      "{'year': 2014, '0DA': 1989, '1AJ': 21916.251191511292}\n",
      "Simulating OF\n",
      "1 simulations done\n",
      "2 simulations done\n",
      "3 simulations done\n",
      "4 simulations done\n",
      "5 simulations done\n",
      "6 simulations done\n",
      "7 simulations done\n",
      "8 simulations done\n",
      "9 simulations done\n",
      "10 simulations done\n",
      "11 simulations done\n",
      "12 simulations done\n",
      "13 simulations done\n",
      "14 simulations done\n",
      "15 simulations done\n",
      "16 simulations done\n",
      "17 simulations done\n",
      "18 simulations done\n",
      "19 simulations done\n",
      "20 simulations done\n",
      "21 simulations done\n",
      "22 simulations done\n",
      "23 simulations done\n",
      "24 simulations done\n",
      "25 simulations done\n",
      "26 simulations done\n",
      "27 simulations done\n",
      "28 simulations done\n",
      "29 simulations done\n",
      "30 simulations done\n",
      "31 simulations done\n",
      "32 simulations done\n",
      "33 simulations done\n",
      "34 simulations done\n",
      "35 simulations done\n",
      "36 simulations done\n",
      "37 simulations done\n",
      "38 simulations done\n",
      "39 simulations done\n",
      "40 simulations done\n",
      "41 simulations done\n",
      "42 simulations done\n",
      "43 simulations done\n",
      "44 simulations done\n",
      "45 simulations done\n",
      "46 simulations done\n",
      "47 simulations done\n"
     ]
    }
   ],
   "source": [
    "comparator = CalculatorComparator()\n",
    "test_cases = CerfaPopulationSimulator().generate_test_cases(100)\n",
    "r_openfisca, r_impotsgouv = comparator.openfisca_vs_impotsgouv(test_cases)\n"
   ]
  },
  {
   "cell_type": "code",
   "execution_count": 5,
   "metadata": {
    "collapsed": false
   },
   "outputs": [],
   "source": [
    "x, r1, r2, diff, combined, colors = comparator.compare_results(test_cases, '1AJ', r_openfisca, 'irpp', r_impotsgouv, 'IINET (Total de votre imposition )')"
   ]
  },
  {
   "cell_type": "code",
   "execution_count": 14,
   "metadata": {
    "collapsed": false
   },
   "outputs": [
    {
     "data": {
      "text/plain": [
       "<matplotlib.collections.PathCollection at 0x117ca5710>"
      ]
     },
     "execution_count": 14,
     "metadata": {},
     "output_type": "execute_result"
    },
    {
     "data": {
      "image/png": "[encoded data removed]",
      "text/plain": [
       "<matplotlib.figure.Figure at 0x1156ab450>"
      ]
     },
     "metadata": {},
     "output_type": "display_data"
    }
   ],
   "source": [
    "plt.scatter(x + x, combined, c=colors)"
   ]
  },
  {
   "cell_type": "code",
   "execution_count": null,
   "metadata": {
    "collapsed": false
   },
   "outputs": [],
   "source": [
    "plt.scatter(x, diff)"
   ]
  },
  {
   "cell_type": "code",
   "execution_count": null,
   "metadata": {
    "collapsed": true
   },
   "outputs": [],
   "source": []
  }
 ],
 "metadata": {
  "kernelspec": {
   "display_name": "Python 2",
   "language": "python",
   "name": "python2"
  },
  "language_info": {
   "codemirror_mode": {
    "name": "ipython",
    "version": 2
   },
   "file_extension": ".py",
   "mimetype": "text/x-python",
   "name": "python",
   "nbconvert_exporter": "python",
   "pygments_lexer": "ipython2",
   "version": "2.7.10"
  }
 },
 "nbformat": 4,
 "nbformat_minor": 0
}
